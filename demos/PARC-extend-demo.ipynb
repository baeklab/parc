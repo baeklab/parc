{
 "cells": [
  {
   "cell_type": "code",
   "execution_count": null,
   "metadata": {},
   "outputs": [],
   "source": [
    "import os\n",
    "import urllib\n",
    "import numpy as np\n",
    "import skimage\n",
    "import tensorflow as tf\n",
    "os.chdir(\"..\")\n",
    "from parc import model, metrics, visualization, misc"
   ]
  },
  {
   "attachments": {},
   "cell_type": "markdown",
   "metadata": {},
   "source": [
    "## PARC prediction at unseen time steps"
   ]
  },
  {
   "attachments": {},
   "cell_type": "markdown",
   "metadata": {},
   "source": [
    "### Load data for prediction"
   ]
  },
  {
   "cell_type": "code",
   "execution_count": null,
   "metadata": {},
   "outputs": [],
   "source": [
    "# todo: have a downloadable link for this\n",
    "url = 'https://virginia.box.com/shared/static/see7wprmzcblnogi9rkrsjlq2k0bk0zf.npy'\n",
    "print( 'get data_in longer timestep prediction:', end='\\t')\n",
    "response = urllib.request.urlretrieve(url, 'data_in_test_long.npy')\n",
    "print( 'complete' )\n",
    "url = 'https://virginia.box.com/shared/static/cst158uoqth39jy15biglix76so7pfq3.npy'\n",
    "print( 'get data_out longer timestep prediction:', end='\\t')\n",
    "response = urllib.request.urlretrieve(url, 'data_in_test_out.npy')\n",
    "print( 'complete' )\n",
    "\n",
    "url_model = 'https://virginia.box.com/shared/static/cfhjl1a3r8n2ymatpjqwc70y96d42e0q.h5'\n",
    "print( 'get pre-trained model:', end='\\t')\n",
    "response = urllib.request.urlretrieve(url_model, 'preTrain.h5')\n",
    "print( 'complete' )\n",
    "\n",
    "\n",
    "# Temperature and pressure field snapshots \n",
    "data_out = np.load(\"data_out_test_long.npy\") \n",
    "# Microstructure data\n",
    "data_in = np.load(\"data_in_test_long.npy\")\n",
    "\n",
    "## split data\n",
    "X_long = data_in[:,:,:,:]\n",
    "y_long = data_out[:,:,:,2:]\n",
    "X_long_init = data_out[:,:,:,0:2]"
   ]
  },
  {
   "attachments": {},
   "cell_type": "markdown",
   "metadata": {},
   "source": [
    "### Load prediction model for longer time step"
   ]
  },
  {
   "cell_type": "code",
   "execution_count": null,
   "metadata": {},
   "outputs": [],
   "source": [
    "parc_extend = model.PARC(input_size=240, n_fields=2, n_timesteps=36)\n",
    "parc_extend.build()\n",
    "# parc.summary()\n",
    "parc_extend.load_weights(\"preTrain.h5\")"
   ]
  },
  {
   "attachments": {},
   "cell_type": "markdown",
   "metadata": {},
   "source": [
    "### Make prediction"
   ]
  },
  {
   "cell_type": "code",
   "execution_count": null,
   "metadata": {},
   "outputs": [],
   "source": [
    "# Perform prediction on test set\n",
    "parc_pred = parc_extend.predict([X_long,X_long_init])"
   ]
  },
  {
   "attachments": {},
   "cell_type": "markdown",
   "metadata": {},
   "source": [
    "## Plot temperature field evolution"
   ]
  },
  {
   "cell_type": "code",
   "execution_count": null,
   "metadata": {},
   "outputs": [],
   "source": [
    "visualization.plot_field_evolution_extendedTS( y_true=y_long, y_pred=parc_pred, case_idx = 2, temp_range=(300,4000) )"
   ]
  },
  {
   "attachments": {},
   "cell_type": "markdown",
   "metadata": {},
   "source": [
    "## Plot sensitivity "
   ]
  },
  {
   "attachments": {},
   "cell_type": "markdown",
   "metadata": {},
   "source": [
    "### Compute sensitivity metrics for extended simulation"
   ]
  },
  {
   "cell_type": "code",
   "execution_count": null,
   "metadata": {},
   "outputs": [],
   "source": [
    "Temp_pred_parc = parc_pred[0][:,:,:,0::2]\n",
    "Temp_gt = y_long[:,:,:,0::2]\n",
    "\n",
    "Temp_pred_parc = misc.scale_temperature(Temp_pred_parc, start_ts = 3, max_temp = 4000, min_temp = 300)\n",
    "Temp_gt = misc.scale_temperature(Temp_gt, start_ts = 3, max_temp = 4000, min_temp = 300)\n",
    "\n",
    "\n",
    "# Compute sensitivity of ground truth data\n",
    "gt_hs_temp_extra, gt_hs_area_extra = visualization.calculate_hotspot_tempNarea(Temp_gt, cases_range = (0,1), n_timesteps = 33)\n",
    "gt_rate_hs_temp_extra,gt_rate_hs_area_extra = visualization.calculate_hotspot_tempNarea_rateOfChange(Temp_gt, cases_range = (0,1), n_timesteps = 33)\n",
    "\n",
    "# Compute sensitivity of PARC prediction\n",
    "parc_hs_temp_extra, parc_hs_area_extra = visualization.calculate_hotspot_tempNarea(Temp_pred_parc, cases_range = (0,1), n_timesteps = 33)\n",
    "parc_rate_hs_temp_extra, parc_rate_hs_area_extra = visualization.calculate_hotspot_tempNarea_rateOfChange(Temp_pred_parc, cases_range = (0,1), n_timesteps = 33)"
   ]
  },
  {
   "attachments": {},
   "cell_type": "markdown",
   "metadata": {},
   "source": [
    "### Plot sensitivity evolution"
   ]
  },
  {
   "cell_type": "code",
   "execution_count": null,
   "metadata": {},
   "outputs": [],
   "source": [
    "# todo: I haven't integrated this into the visualization file. This seems to be one-time use code. \n",
    "# feel free to integrate to the visualization file, but make sure to change the function name to something different\n",
    "import matplotlib.pyplot as plt\n",
    "\n",
    "def sensitivity_plot(gt_data, parc_data, metric):\n",
    "    # Initiate figure\n",
    "    plt.figure (figsize= (13,10))\n",
    "\n",
    "    # Check type of metric to generate proper setting\n",
    "    if metric == \"hs_temp\" or metric == \"hs_area\":\n",
    "        # Create discrete time steps\n",
    "        ts = np.linspace(3.16,28.44,33)\n",
    "\n",
    "    elif metric == \"rate_hs_temp\" or metric == \"rate_hs_area\":\n",
    "        # Create discrete time steps\n",
    "        ts = np.linspace(3.16,27.65,32)\n",
    "    else:\n",
    "        print(\"Wrong metric selection. Possible metrics are: 'hs_temp', 'hs_area', 'rate_hs_temp', 'rate_hs_area\")\n",
    "\n",
    "    # Main plot \n",
    "    # Plot mean value\n",
    "    plt.plot(ts,gt_data[0], color='#023FA3',lw=2.5,label='Ground truth')\n",
    "    plt.plot(ts,parc_data[0], color='#D91820',lw=2.5,label='Prediction')\n",
    "    plt.plot([15.01, 15.01], [-30, 5000], 'k-', lw=2, ls = '--') # Denote the length of training simulation\\a\n",
    "    \n",
    "    # Title and axe settings\n",
    "    # Check type of metric to generate proper setting\n",
    "    if metric == \"hs_temp\":\n",
    "        # Create discrete time steps\n",
    "        # Plot title\n",
    "        plt.title(r'Ave. Hotspot Temperature ($T_{hs}$)', fontsize = 32, pad = 15)\n",
    "        plt.xlabel(r\"t ($ns$)\", fontsize = 28)\n",
    "        plt.ylabel(r' $T_{hs}$ ($K$)', fontsize = 28)\n",
    "        plt.axis([3.16, 28, 0, 5000])\n",
    "        text_pos = (9.2, 1000, 20.2, 1000)\n",
    "\n",
    "    elif metric == \"hs_area\":\n",
    "        plt.title(r'Hotspot Area ($A_{hs}$)', fontsize = 32, pad = 15)\n",
    "        plt.xlabel(r\"t ($ns$)\", fontsize = 28)\n",
    "        plt.ylabel(r'$A_{hs}$ ($\\mu m^2$)', fontsize = 28)\n",
    "        plt.axis([3.16,28, 0, 800])\n",
    "        text_pos = (9.2, 400, 20.2, 150)\n",
    "\n",
    "    elif metric == \"rate_hs_temp\":\n",
    "        plt.title(r'Ave. Hotspot Temperature Rate of Change ($\\dot{T_{hs}}$)', fontsize = 32, pad = 15)\n",
    "        plt.xlabel(r\"t ($ns$)\", fontsize = 28)\n",
    "        plt.ylabel(r\"$\\dot{T_{hs}}$ ($K$/$ns$)\", fontsize = 28)\n",
    "        plt.axis([3.16, 28, -30, 800])\n",
    "        text_pos = (9.2, 550, 20.2, 400)\n",
    "\n",
    "    else:\n",
    "        plt.title(r'Hotspot Area Rate of Change ($\\dot{A_{hs}}$)', fontsize = 32,pad = 15)\n",
    "        plt.xlabel(r\"t ($ns$)\",fontsize = 28)\n",
    "        plt.ylabel(r\"$\\dot{A_{hs}}$ ($\\mu m^2$/$ns$)\",fontsize = 28)\n",
    "        plt.axis([3.16, 28, 0, 100])\n",
    "        text_pos = (9.2, 50, 20.2, 50)\n",
    "\n",
    "    ax = plt.gca()\n",
    "    ax.text(\n",
    "        text_pos[0], text_pos[1], (\"Training simulation \\n\" + \"time: 15.01 (ns)\"),\n",
    "        ha=\"center\", va=\"center\", rotation=0, size=24,\n",
    "        bbox=dict(boxstyle=\"rarrow,pad=0.3\", fc=\"white\", ec = '#023FA3', lw=2))\n",
    "    ax.text(\n",
    "        text_pos[2], text_pos[3], (\"Extended simulation \\n\" + \"time\"), ha=\"center\", va=\"center\", rotation=0, size=24,\n",
    "        bbox=dict(boxstyle=\"rarrow,pad=0.3\", fc=\"white\", ec = '#D91820', lw=2))\n",
    "    plt.xticks(fontsize= 28)\n",
    "    plt.yticks(fontsize= 28)\n",
    "    plt.legend(loc = 2, fontsize = 28)\n",
    "    plt.show()\n",
    "    return None"
   ]
  },
  {
   "attachments": {},
   "cell_type": "markdown",
   "metadata": {},
   "source": [
    "#### Average hotspot temperature"
   ]
  },
  {
   "cell_type": "code",
   "execution_count": null,
   "metadata": {},
   "outputs": [],
   "source": [
    "sensitivity_plot(gt_hs_temp_extra, parc_hs_temp_extra, metric = \"hs_temp\")"
   ]
  },
  {
   "attachments": {},
   "cell_type": "markdown",
   "metadata": {},
   "source": [
    "#### Total hotspot area"
   ]
  },
  {
   "cell_type": "code",
   "execution_count": null,
   "metadata": {},
   "outputs": [],
   "source": [
    "sensitivity_plot(gt_hs_area_extra, parc_hs_area_extra, metric = \"hs_area\")"
   ]
  },
  {
   "attachments": {},
   "cell_type": "markdown",
   "metadata": {},
   "source": [
    "#### Average hotspot temperature rate of change"
   ]
  },
  {
   "cell_type": "code",
   "execution_count": null,
   "metadata": {},
   "outputs": [],
   "source": [
    "sensitivity_plot(gt_rate_hs_temp_extra, parc_rate_hs_temp_extra, metric = \"rate_hs_temp\")"
   ]
  },
  {
   "attachments": {},
   "cell_type": "markdown",
   "metadata": {},
   "source": [
    "#### Total hotspot area rate of change"
   ]
  },
  {
   "cell_type": "code",
   "execution_count": null,
   "metadata": {},
   "outputs": [],
   "source": [
    "sensitivity_plot(gt_rate_hs_area_extra, parc_rate_hs_area_extra, metric = \"rate_hs_area\")"
   ]
  }
 ],
 "metadata": {
  "kernelspec": {
   "display_name": "myenv",
   "language": "python",
   "name": "python3"
  },
  "language_info": {
   "codemirror_mode": {
    "name": "ipython",
    "version": 3
   },
   "file_extension": ".py",
   "mimetype": "text/x-python",
   "name": "python",
   "nbconvert_exporter": "python",
   "pygments_lexer": "ipython3",
   "version": "3.9.10"
  },
  "orig_nbformat": 4,
  "vscode": {
   "interpreter": {
    "hash": "95917ce1938bc245eb9982949bb3e10495fe05d8c41fcd0968b898aff8236529"
   }
  }
 },
 "nbformat": 4,
 "nbformat_minor": 2
}
