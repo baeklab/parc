{
 "cells": [
  {
   "cell_type": "code",
   "execution_count": 1,
   "metadata": {},
   "outputs": [],
   "source": [
    "import numpy as np\n",
    "import matplotlib.pyplot as plt\n",
    "\n",
    "from tensorflow import keras\n",
    "from tensorflow.keras import layers, regularizers\n",
    "from keras.layers import *\n",
    "\n",
    "import tensorflow as tf\n",
    "\n",
    "from keras import backend as K"
   ]
  },
  {
   "attachments": {},
   "cell_type": "markdown",
   "metadata": {},
   "source": [
    "# Auxilary"
   ]
  },
  {
   "cell_type": "code",
   "execution_count": null,
   "metadata": {},
   "outputs": [],
   "source": []
  },
  {
   "attachments": {},
   "cell_type": "markdown",
   "metadata": {},
   "source": [
    "# Model"
   ]
  },
  {
   "attachments": {},
   "cell_type": "markdown",
   "metadata": {},
   "source": [
    "## Building block"
   ]
  },
  {
   "attachments": {},
   "cell_type": "markdown",
   "metadata": {},
   "source": [
    "### Resnet"
   ]
  },
  {
   "cell_type": "code",
   "execution_count": 2,
   "metadata": {},
   "outputs": [],
   "source": [
    "def resnet_unit(feat_dim, kernel_size, x_in):\n",
    "    # conv = Conv2D(feats, kernel, padding=\"same\")\n",
    "    res = keras.Sequential([\n",
    "        Conv2D(feat_dim,\n",
    "               kernel_size, padding=\"same\",\n",
    "               kernel_initializer='he_uniform',\n",
    "               bias_initializer='he_uniform'),\n",
    "        ReLU(),\n",
    "        Conv2D(feat_dim,\n",
    "               kernel_size,\n",
    "               padding=\"same\",\n",
    "               kernel_initializer='he_uniform',\n",
    "            bias_initializer='he_uniform')\n",
    "    ])\n",
    "    return ReLU()(x_in + res(x_in))\n",
    "\n",
    "def resnet_block(x_in, feat_dim, kernel_size, reps, pooling = True):\n",
    "    # Stage 2\n",
    "    conv1 = Conv2D(feat_dim,\n",
    "                   kernel_size,\n",
    "                   padding=\"same\",\n",
    "                   kernel_initializer='he_uniform',\n",
    "                   bias_initializer='he_uniform')(x_in)\n",
    "    relu1 = ReLU()(conv1)\n",
    "    conv2 = Conv2D(feat_dim,\n",
    "                   kernel_size,\n",
    "                   padding=\"same\",\n",
    "                   kernel_initializer='he_uniform',\n",
    "                   bias_initializer='he_uniform')(relu1)\n",
    "    x = ReLU()(conv2)\n",
    "    for _ in range(reps):\n",
    "        x = resnet_unit(feat_dim,kernel_size,x)\n",
    "    if pooling == True:\n",
    "        x = MaxPooling2D(2,2)(x)\n",
    "        return x\n",
    "    else:\n",
    "        return x"
   ]
  },
  {
   "attachments": {},
   "cell_type": "markdown",
   "metadata": {},
   "source": [
    "### Convolution block"
   ]
  },
  {
   "cell_type": "code",
   "execution_count": 3,
   "metadata": {},
   "outputs": [],
   "source": [
    "def conv_unit(feat_dim, kernel_size, x):\n",
    "    x = Conv2D(feat_dim, \n",
    "               kernel_size, \n",
    "               activation = LeakyReLU(0.2), \n",
    "               padding=\"same\", \n",
    "               kernel_initializer='he_uniform', \n",
    "               bias_initializer='he_uniform')(x)\n",
    "    x = Conv2D(feat_dim,\n",
    "               1,\n",
    "               activation = LeakyReLU(0.2),\n",
    "               padding=\"same\",\n",
    "               kernel_initializer='he_uniform',\n",
    "               bias_initializer='he_uniform')(x)\n",
    "    return x\n",
    "\n",
    "def conv_block_down(x, feat_dim, reps, kernel_size, mode = 'normal'):\n",
    "    if mode == 'down':\n",
    "        x = MaxPooling2D(2,2)(x)\n",
    "    for _ in range(reps):\n",
    "        x = conv_unit(feat_dim, \n",
    "                      kernel_size,\n",
    "                      x)\n",
    "\n",
    "    return x\n",
    "\n",
    "def conv_block_up_w_concat(x, x1, feat_dim, reps, kernel_size, mode = 'normal'):\n",
    "    if mode == 'up':\n",
    "        x = UpSampling2D((2,2))(x)\n",
    "    \n",
    "    x = Concatenate()([x,x1])\n",
    "    for _ in range(reps):\n",
    "        x = conv_unit(feat_dim,\n",
    "                      kernel_size,\n",
    "                      x)\n",
    "    return x\n",
    "\n",
    "def conv_block_up_wo_concat(x, feat_dim, reps, kernel_size, mode = 'normal'):\n",
    "    if mode == 'up':\n",
    "        x = UpSampling2D((2,2))(x)\n",
    "    for _ in range(reps):\n",
    "        x = conv_unit(feat_dim,\n",
    "                      kernel_size,\n",
    "                      x)\n",
    "    return x"
   ]
  },
  {
   "attachments": {},
   "cell_type": "markdown",
   "metadata": {},
   "source": [
    "### SPADE"
   ]
  },
  {
   "cell_type": "code",
   "execution_count": 4,
   "metadata": {},
   "outputs": [],
   "source": [
    "class SPADE(layers.Layer):\n",
    "    def __init__(self, filters, epsilon=1e-5, **kwargs):\n",
    "        super().__init__(**kwargs)\n",
    "        self.epsilon = epsilon\n",
    "        self.conv = layers.Conv2D(filters, 3, padding=\"same\", activation=\"relu\",kernel_initializer='he_uniform',\n",
    "               bias_initializer='he_uniform',kernel_regularizer=regularizers.L1L2(l1=1e-5, l2=1e-4))\n",
    "        self.conv_gamma = layers.Conv2D(filters, 3, padding=\"same\",kernel_initializer='he_uniform',\n",
    "               bias_initializer='he_uniform',kernel_regularizer=regularizers.L1L2(l1=1e-5, l2=1e-4))\n",
    "        self.conv_beta = layers.Conv2D(filters, 3, padding=\"same\",kernel_initializer='he_uniform',\n",
    "               bias_initializer='he_uniform',kernel_regularizer=regularizers.L1L2(l1=1e-5, l2=1e-4))\n",
    "\n",
    "    def build(self, input_shape):\n",
    "        self.resize_shape = input_shape[1:3]\n",
    "        # print(self.resize_shape)\n",
    "\n",
    "    def call(self, input_tensor, raw_mask):\n",
    "        mask = tf.image.resize(raw_mask, self.resize_shape, method=\"nearest\")\n",
    "        x = self.conv(mask)    \n",
    "\n",
    "        gamma = self.conv_gamma(x)\n",
    "        beta = self.conv_beta(x)\n",
    "        mean, var = tf.nn.moments(input_tensor, axes=(0, 1, 2), keepdims=True)\n",
    "        std = tf.sqrt(var + self.epsilon)\n",
    "        # print(mean.shape)\n",
    "\n",
    "        normalized = (input_tensor - mean) / std\n",
    "        output = gamma * normalized + beta\n",
    "\n",
    "        return output\n",
    "\n",
    "def spade_generator_unit(x, mask, feats_in, kernel, upsampling = True):\n",
    "    x = GaussianNoise(0.05)(x)\n",
    "    # SPADE & conv\n",
    "    spade1 = SPADE(feats_in)(x, mask)\n",
    "    output = Conv2D(feats_in,kernel, padding='same', activation= LeakyReLU(0.2),kernel_initializer='he_uniform',\n",
    "               bias_initializer='he_uniform',kernel_regularizer=regularizers.L1L2(l1=1e-5, l2=1e-4))(spade1)\n",
    "    if upsampling == True:\n",
    "        output = UpSampling2D(size = (2,2))(output)\n",
    "        return output\n",
    "    else:\n",
    "        return output"
   ]
  },
  {
   "attachments": {},
   "cell_type": "markdown",
   "metadata": {},
   "source": [
    "### Adaptive Instance Normalization"
   ]
  },
  {
   "cell_type": "code",
   "execution_count": 5,
   "metadata": {},
   "outputs": [],
   "source": [
    "class AdaIN(layers.Layer):\n",
    "    def __init__(self, filters, epsilon=1e-5, **kwargs):\n",
    "        super().__init__(**kwargs)\n",
    "        self.epsilon = epsilon\n",
    "        self.dense = layers.Dense(filters,\n",
    "                                  activation = 'relu',\n",
    "                                  kernel_initializer='he_uniform',\n",
    "                                  bias_initializer='he_uniform')\n",
    "        self.dense_gamma = layers.Dense(filters,\n",
    "                                        kernel_initializer='he_uniform',\n",
    "                                        bias_initializer='he_uniform')\n",
    "        self.dense_beta = layers.Dense(filters,\n",
    "                                       kernel_initializer='he_uniform',\n",
    "                                       bias_initializer='he_uniform')\n",
    "\n",
    "    def call(self, input_tensor, style_vector):\n",
    "        x = self.dense(style_vector)\n",
    "        gamma = self.dense_gamma(x)\n",
    "        beta = self.dense_beta(x)\n",
    "        #Normalize x[0]\n",
    "        mean, var = tf.nn.moments(input_tensor, axes=(0, 1, 2), keepdims=True)\n",
    "        std = tf.sqrt(var + self.epsilon)\n",
    "        normalized = (input_tensor - mean) / std\n",
    "        y = (x[0] - mean) / std\n",
    "\n",
    "        #Reshape gamma and beta\n",
    "        pool_shape = [-1, 1, 1, y.shape[-1]]\n",
    "        gamma = tf.reshape(gamma, pool_shape) + 1.0\n",
    "        beta = tf.reshape(beta, pool_shape)\n",
    "\n",
    "        return gamma * normalized + beta"
   ]
  },
  {
   "attachments": {},
   "cell_type": "markdown",
   "metadata": {},
   "source": [
    "### Feature extraction CNN"
   ]
  },
  {
   "cell_type": "code",
   "execution_count": 6,
   "metadata": {},
   "outputs": [],
   "source": [
    "def feature_extraction_unet(n_out_features = 128, n_base_features = 64, input_shape = (256,512,5)):\n",
    "    inputs = keras.Input(shape = input_shape)\n",
    "\n",
    "    conv1 = conv_block_down(inputs,\n",
    "                            feat_dim = n_base_features,\n",
    "                            reps = 1,\n",
    "                            kernel_size = 3)\n",
    "    conv2 = conv_block_down(conv1,\n",
    "                            feat_dim = n_base_features*2,\n",
    "                            reps = 1,\n",
    "                            kernel_size = 3,\n",
    "                            mode = 'down')\n",
    "    conv3 = conv_block_down(conv2,\n",
    "                            feat_dim = n_base_features*4,\n",
    "                            reps = 1,\n",
    "                            kernel_size = 3,\n",
    "                            mode = 'down')\n",
    "    conv4 = conv_block_down(conv3,\n",
    "                            feat_dim = n_base_features*8,\n",
    "                            reps = 1,\n",
    "                            kernel_size = 3,\n",
    "                            mode = 'down')\n",
    "    conv5 = conv_block_down(conv4,\n",
    "                            feat_dim = n_base_features*16,\n",
    "                            reps = 1,\n",
    "                            kernel_size = 3,\n",
    "                            mode = 'down')\n",
    "    conv6 = conv_block_up_wo_concat(conv5,\n",
    "                                    feat_dim = n_base_features*8,\n",
    "                                    reps = 1,\n",
    "                                    kernel_size = 3,\n",
    "                                    mode = 'up')\n",
    "    \n",
    "    conv7 = conv_block_up_w_concat(conv6, conv3,\n",
    "                                    feat_dim = n_base_features*4,\n",
    "                                    reps = 1,\n",
    "                                    kernel_size = 3,\n",
    "                                    mode = 'up')\n",
    "    \n",
    "    conv8 = conv_block_up_wo_concat(conv7,\n",
    "                                    feat_dim = n_base_features*2,\n",
    "                                    reps = 1,\n",
    "                                    kernel_size = 3,\n",
    "                                    mode = 'up')\n",
    "    \n",
    "    conv9 = conv_block_up_w_concat(conv8, conv1,\n",
    "                                    feat_dim = n_out_features,\n",
    "                                    reps = 1,\n",
    "                                    kernel_size = 3,\n",
    "                                    mode = 'up')\n",
    "\n",
    "    feature_out = conv_block_up_wo_concat(conv9,\n",
    "                                    feat_dim = n_out_features,\n",
    "                                    reps = 1,\n",
    "                                    kernel_size = 1,\n",
    "                                    mode = 'normal')\n",
    "    unet = keras.Model(inputs, feature_out)\n",
    "    return unet"
   ]
  },
  {
   "attachments": {},
   "cell_type": "markdown",
   "metadata": {},
   "source": [
    "### Mapping and reconstruction CNN"
   ]
  },
  {
   "cell_type": "code",
   "execution_count": 14,
   "metadata": {},
   "outputs": [],
   "source": [
    "def mapping_and_recon_cnn(n_base_features = 64, input_shape = (256,512,128) ):\n",
    "    inputs = keras.Input(shape = input_shape)\n",
    "    inputs_2 = keras.Input(shape = (256,512,1))\n",
    "    spade1 = spade_generator_unit(inputs,\n",
    "                                  inputs_2,\n",
    "                                  128,\n",
    "                                  1,\n",
    "                                  upsampling = False)\n",
    "    conv1 = resnet_block(spade1,\n",
    "                         feat_dim = n_base_features,\n",
    "                         kernel_size = 1,\n",
    "                         reps = 2,\n",
    "                         pooling = False)\n",
    "    spade2 = spade_generator_unit(conv1,\n",
    "                                  inputs_2,\n",
    "                                  n_base_features,\n",
    "                                  1,\n",
    "                                  upsampling = False)\n",
    "    conv2 = resnet_block(spade2,\n",
    "                         feat_dim = n_base_features*2,\n",
    "                         kernel_size = 1,\n",
    "                         reps = 2,\n",
    "                         pooling = False)\n",
    "    \n",
    "    spade3 = spade_generator_unit(conv2,\n",
    "                                  inputs_2,\n",
    "                                  n_base_features*2,\n",
    "                                  1,\n",
    "                                  upsampling = False)\n",
    "    conv3 = resnet_block(spade3,\n",
    "                         feat_dim = n_base_features*4,\n",
    "                         kernel_size = 1,\n",
    "                         reps = 2,\n",
    "                         pooling = False)\n",
    "    conv_out = Conv2D(1,1,padding='same')(conv3)\n",
    "    mapping_resnet = keras.Model([inputs,inputs_2], conv_out)\n",
    "    return mapping_resnet\n",
    "# mapping_and_recon_cnn().summary()\n",
    "# PARCv2"
   ]
  },
  {
   "attachments": {},
   "cell_type": "markdown",
   "metadata": {},
   "source": [
    "### Advection layer"
   ]
  },
  {
   "cell_type": "code",
   "execution_count": 57,
   "metadata": {},
   "outputs": [
    {
     "name": "stdout",
     "output_type": "stream",
     "text": [
      "(None, 256, 512, 1)\n",
      "Model: \"model_38\"\n",
      "__________________________________________________________________________________________________\n",
      " Layer (type)                   Output Shape         Param #     Connected to                     \n",
      "==================================================================================================\n",
      " input_95 (InputLayer)          [(None, 256, 512, 1  0           []                               \n",
      "                                )]                                                                \n",
      "                                                                                                  \n",
      " input_96 (InputLayer)          [(None, 256, 512, 2  0           []                               \n",
      "                                )]                                                                \n",
      "                                                                                                  \n",
      " advection_40 (Advection)       (None, 256, 512, 1)  0           ['input_95[0][0]',               \n",
      "                                                                  'input_96[0][0]']               \n",
      "                                                                                                  \n",
      "==================================================================================================\n",
      "Total params: 0\n",
      "Trainable params: 0\n",
      "Non-trainable params: 0\n",
      "__________________________________________________________________________________________________\n"
     ]
    }
   ],
   "source": [
    "class Advection(layers.Layer):\n",
    "    def __init__(self, **kwargs):\n",
    "        super().__init__(**kwargs)\n",
    "        self.trainable = False\n",
    "\n",
    "    def call(self, state_variable, velocity_field):\n",
    "        dy, dx = tf.image.image_gradients(state_variable)\n",
    "        spatial_deriv = tf.concat([dy,dx],axis = -1)\n",
    "        advect = tf.reduce_sum(tf.multiply(spatial_deriv,velocity_field),axis = -1, keepdims=True)\n",
    "        print(advect.shape)\n",
    "        return advect\n"
   ]
  },
  {
   "attachments": {},
   "cell_type": "markdown",
   "metadata": {},
   "source": [
    "### Integration CNN"
   ]
  },
  {
   "cell_type": "code",
   "execution_count": 15,
   "metadata": {},
   "outputs": [],
   "source": [
    "def integrator_cnn(n_base_features = 128, input_shape = (256,512,1)):\n",
    "    inputs = keras.Input(shape = input_shape)\n",
    "    conv1 = resnet_block(inputs,\n",
    "                         feat_dim = n_base_features,\n",
    "                         kernel_size = 1,\n",
    "                         reps = 2,\n",
    "                         pooling = False)\n",
    "    conv2 = resnet_block(conv1,\n",
    "                         feat_dim = n_base_features*2,\n",
    "                         kernel_size = 1,\n",
    "                         reps = 2,\n",
    "                         pooling = False)\n",
    "    conv3 = resnet_block(conv2,\n",
    "                         feat_dim = n_base_features*4,\n",
    "                         kernel_size = 1,\n",
    "                         reps = 2,\n",
    "                         pooling = False)\n",
    "    conv_out = Conv2D(1,1,padding='same')(conv3)\n",
    "    integrator_resnet = keras.Model(inputs, conv_out)\n",
    "    return integrator_resnet\n",
    "# integrator_cnn().summary()"
   ]
  },
  {
   "attachments": {},
   "cell_type": "markdown",
   "metadata": {},
   "source": [
    "### PARCv2"
   ]
  },
  {
   "cell_type": "code",
   "execution_count": null,
   "metadata": {},
   "outputs": [],
   "source": [
    "class PARC_2(keras.Model):\n",
    "    def __init__(self, **kwargs):\n",
    "        super(PARC_2, self).__init__(**kwargs)\n",
    "        self.encoder = resnet_based_encoder()\n",
    "        self.decoder = spade_based_generator()\n",
    "        self.latent_evolution = latent_evolution_model()\n",
    "        # loss define\n",
    "        self.total_loss_tracker = keras.metrics.Mean(name=\"total_loss\")\n",
    "        self.in_ae_loss_tracker = keras.metrics.Mean(name=\"in_ae_loss\")\n",
    "        self.out_ae_loss_tracker = keras.metrics.Mean(name=\"out_ae_loss\")\n",
    "        self.latent_loss_tracker = keras.metrics.Mean(name=\"latent_loss\")\n",
    "        self.recon_loss_tracker = keras.metrics.Mean(name=\"recon_loss\")\n",
    "\n",
    "    @property\n",
    "    def metrics(self):\n",
    "        return [\n",
    "        self.total_loss_tracker,\n",
    "        self.in_ae_loss_tracker,\n",
    "        self.out_ae_loss_tracker,\n",
    "        self.latent_loss_tracker,\n",
    "        self.recon_loss_tracker\n",
    "        ]\n",
    "\n",
    "    def train_step(self, data):\n",
    "\n",
    "        input_temp = data[0]\n",
    "        output_temp = data[1]\n",
    "        total_loss = 0\n",
    "        with tf.GradientTape() as tape:\n",
    "            # AE loss\n",
    "            latent_temp_in = self.encoder(input_temp)\n",
    "            ae_recon_temp_in = self.decoder(latent_temp_in)\n",
    "            in_ae_loss = tf.keras.losses.MeanSquaredError()(input_temp,ae_recon_temp_in)\n",
    "            latent_temp_out = self.encoder(output_temp)\n",
    "            ae_recon_temp_out = self.decoder(latent_temp_out)\n",
    "            out_ae_loss = tf.keras.losses.MeanSquaredError()(output_temp,ae_recon_temp_out)\n",
    "\n",
    "            ae_loss = in_ae_loss + out_ae_loss\n",
    "\n",
    "            pred_latent_temp_out = self.latent_evolution(latent_temp_in, latent_temp_out)\n",
    "            latent_loss = tf.keras.losses.MeanSquaredError()(pred_latent_temp_out,latent_temp_out)\n",
    "            recon_latent_temp = self.decoder(pred_latent_temp_out)\n",
    "            recon_loss = tf.keras.losses.MeanSquaredError()(output_temp,recon_latent_temp)\n",
    "            \n",
    "\n",
    "            total_loss =  recon_loss + ae_loss + latent_loss\n",
    "            \n",
    "        self.total_loss_tracker.update_state(total_loss)\n",
    "        self.in_ae_loss_tracker.update_state(in_ae_loss)\n",
    "        self.out_ae_loss_tracker.update_state(out_ae_loss)\n",
    "        self.latent_loss_tracker.update_state(latent_loss)\n",
    "        self.recon_loss_tracker.update_state(recon_loss)\n",
    "        grads = tape.gradient(total_loss, self.trainable_weights)\n",
    "        self.optimizer.apply_gradients(zip(grads, self.trainable_weights))\n",
    "\n",
    "\n",
    "        return {\n",
    "            \"total_loss\": self.total_loss_tracker.result(),\n",
    "            \"in_ae_loss\": self.in_ae_loss_tracker.result(),\n",
    "            \"out_ae_loss\": self.out_ae_loss_tracker.result(),\n",
    "            \"latent_loss\": self.latent_loss_tracker.result(),\n",
    "            \"recon_loss\": self.recon_loss_tracker.result(),\n",
    "        }\n",
    "        "
   ]
  },
  {
   "attachments": {},
   "cell_type": "markdown",
   "metadata": {},
   "source": [
    "# Data pipeline"
   ]
  },
  {
   "cell_type": "code",
   "execution_count": null,
   "metadata": {},
   "outputs": [],
   "source": []
  },
  {
   "attachments": {},
   "cell_type": "markdown",
   "metadata": {},
   "source": [
    "# Training"
   ]
  },
  {
   "cell_type": "code",
   "execution_count": null,
   "metadata": {},
   "outputs": [],
   "source": []
  },
  {
   "attachments": {},
   "cell_type": "markdown",
   "metadata": {},
   "source": [
    "# Validation"
   ]
  },
  {
   "cell_type": "code",
   "execution_count": null,
   "metadata": {},
   "outputs": [],
   "source": []
  }
 ],
 "metadata": {
  "kernelspec": {
   "display_name": "tf",
   "language": "python",
   "name": "python3"
  },
  "language_info": {
   "codemirror_mode": {
    "name": "ipython",
    "version": 3
   },
   "file_extension": ".py",
   "mimetype": "text/x-python",
   "name": "python",
   "nbconvert_exporter": "python",
   "pygments_lexer": "ipython3",
   "version": "3.9.15"
  },
  "orig_nbformat": 4
 },
 "nbformat": 4,
 "nbformat_minor": 2
}
