{
 "cells": [
  {
   "cell_type": "code",
   "execution_count": 1,
   "metadata": {},
   "outputs": [],
   "source": [
    "import numpy as np\n",
    "import matplotlib.pyplot as plt\n",
    "\n",
    "from tensorflow import keras\n",
    "from tensorflow.keras import layers, regularizers\n",
    "from keras.layers import *\n",
    "\n",
    "import tensorflow as tf\n",
    "\n",
    "from keras import backend as K"
   ]
  },
  {
   "attachments": {},
   "cell_type": "markdown",
   "metadata": {},
   "source": [
    "# Auxilary"
   ]
  },
  {
   "cell_type": "code",
   "execution_count": null,
   "metadata": {},
   "outputs": [],
   "source": []
  },
  {
   "attachments": {},
   "cell_type": "markdown",
   "metadata": {},
   "source": [
    "# Model"
   ]
  },
  {
   "attachments": {},
   "cell_type": "markdown",
   "metadata": {},
   "source": [
    "## Building block"
   ]
  },
  {
   "attachments": {},
   "cell_type": "markdown",
   "metadata": {},
   "source": [
    "### Resnet"
   ]
  },
  {
   "cell_type": "code",
   "execution_count": null,
   "metadata": {},
   "outputs": [],
   "source": [
    "def resnet_unit(feat_dim, kernel_size, x_in):\n",
    "    # conv = Conv2D(feats, kernel, padding=\"same\")\n",
    "    res = keras.Sequential([\n",
    "        Conv2D(feat_dim, kernel_size, padding=\"same\"\n",
    "            ,kernel_initializer='he_uniform'\n",
    "            ,bias_initializer='he_uniform',\n",
    "            kernel_regularizer=regularizers.L1L2(l1=1e-5, l2=1e-4)\n",
    "            ),\n",
    "        ReLU(),\n",
    "        Conv2D(feat_dim, kernel_size, padding=\"same\", \n",
    "            kernel_initializer='he_uniform',\n",
    "            bias_initializer='he_uniform',\n",
    "            kernel_regularizer=regularizers.L1L2(l1=1e-5, l2=1e-4)),\n",
    "    ])\n",
    "    return ReLU()(x_in + res(x_in))\n",
    "\n",
    "def resnet_block(feat_dim, reps, x_in, pooling = True):\n",
    "    # Stage 2\n",
    "    conv1 = Conv2D(feat_dim, 3, padding=\"same\", kernel_initializer='he_uniform',\n",
    "            bias_initializer='he_uniform',kernel_regularizer=regularizers.L1L2(l1=1e-5, l2=1e-4))(x_in)\n",
    "    relu1 = ReLU()(conv1)\n",
    "    conv2 = Conv2D(feat_dim, 3, padding=\"same\", kernel_initializer='he_uniform',\n",
    "            bias_initializer='he_uniform',kernel_regularizer=regularizers.L1L2(l1=1e-5, l2=1e-4))(relu1)\n",
    "    x = ReLU()(conv2)\n",
    "    for _ in range(reps):\n",
    "        x = resnet_unit(feat_dim,3,x)\n",
    "    if pooling == True:\n",
    "        x = MaxPooling2D(2,2)(x)\n",
    "        return x\n",
    "    else:\n",
    "        return x"
   ]
  },
  {
   "attachments": {},
   "cell_type": "markdown",
   "metadata": {},
   "source": [
    "### Convolution block"
   ]
  },
  {
   "cell_type": "code",
   "execution_count": 2,
   "metadata": {},
   "outputs": [],
   "source": [
    "def conv_block(feat_dim, reps, x, kernel_size, mode = 'normal'):\n",
    "    if mode == 'down':\n",
    "        x = MaxPooling2D(2,2)(x)\n",
    "    if mode == 'up':\n",
    "        x = UpSampling2D((2,2))(x)\n",
    "    # if mode == 'normal':\n",
    "    for _ in range(reps):\n",
    "        x = Conv2D(feat_dim, kernel_size, activation = LeakyReLU(0.2), padding=\"same\", kernel_initializer='he_uniform', \n",
    "            bias_initializer='he_uniform')(x)\n",
    "        x = Conv2D(feat_dim, 1, activation = LeakyReLU(0.2), padding=\"same\", kernel_initializer='he_uniform',\n",
    "            bias_initializer='he_uniform')(x)\n",
    "\n",
    "    return x\n",
    "    "
   ]
  },
  {
   "attachments": {},
   "cell_type": "markdown",
   "metadata": {},
   "source": [
    "### SPADE"
   ]
  },
  {
   "cell_type": "code",
   "execution_count": null,
   "metadata": {},
   "outputs": [],
   "source": [
    "class SPADE(layers.Layer):\n",
    "    def __init__(self, filters, epsilon=1e-5, **kwargs):\n",
    "        super().__init__(**kwargs)\n",
    "        self.epsilon = epsilon\n",
    "        self.conv = layers.Conv2D(filters, 3, padding=\"same\", activation=\"relu\",kernel_initializer='he_uniform',\n",
    "               bias_initializer='he_uniform',kernel_regularizer=regularizers.L1L2(l1=1e-5, l2=1e-4))\n",
    "        self.conv_gamma = layers.Conv2D(filters, 3, padding=\"same\",kernel_initializer='he_uniform',\n",
    "               bias_initializer='he_uniform',kernel_regularizer=regularizers.L1L2(l1=1e-5, l2=1e-4))\n",
    "        self.conv_beta = layers.Conv2D(filters, 3, padding=\"same\",kernel_initializer='he_uniform',\n",
    "               bias_initializer='he_uniform',kernel_regularizer=regularizers.L1L2(l1=1e-5, l2=1e-4))\n",
    "\n",
    "    def build(self, input_shape):\n",
    "        self.resize_shape = input_shape[1:3]\n",
    "\n",
    "    def call(self, input_tensor, raw_mask):\n",
    "        mask = tf.image.resize(raw_mask, self.resize_shape, method=\"nearest\")\n",
    "        x = self.conv(mask)\n",
    "        gamma = self.conv_gamma(x)\n",
    "        beta = self.conv_beta(x)\n",
    "        mean, var = tf.nn.moments(input_tensor, axes=(0, 1, 2), keepdims=True)\n",
    "        std = tf.sqrt(var + self.epsilon)\n",
    "        normalized = (input_tensor - mean) / std\n",
    "        output = gamma * normalized + beta\n",
    "        return output\n",
    "\n",
    "def spade_generator_unit(feats_in, feats_out, kernel, x, mask, upsampling = True):\n",
    "    x = GaussianNoise(0.05)(x)\n",
    "    # SPADE & conv\n",
    "    spade1 = SPADE(feats_in)(x, mask)\n",
    "    conv1 = Conv2D(feats_in,kernel, padding='same', activation= LeakyReLU(0.2),kernel_initializer='he_uniform',\n",
    "               bias_initializer='he_uniform',kernel_regularizer=regularizers.L1L2(l1=1e-5, l2=1e-4))(spade1)\n",
    "   \n",
    "    conv_out = Conv2D(feats_out,kernel, padding='same', kernel_initializer='he_uniform',\n",
    "               bias_initializer='he_uniform',kernel_regularizer=regularizers.L1L2(l1=1e-5, l2=1e-4))(conv1)\n",
    "    output = LeakyReLU(0.2)(conv_out)\n",
    "    if upsampling == True:\n",
    "        output = UpSampling2D(size = (2,2))(output)\n",
    "        return output\n",
    "    else:\n",
    "        return output"
   ]
  },
  {
   "attachments": {},
   "cell_type": "markdown",
   "metadata": {},
   "source": [
    "### Adaptive Instance Normalization"
   ]
  },
  {
   "cell_type": "code",
   "execution_count": null,
   "metadata": {},
   "outputs": [],
   "source": [
    "class AdaIN(layers.Layer):\n",
    "    def __init__(self, filters, epsilon=1e-5, **kwargs):\n",
    "        super().__init__(**kwargs)\n",
    "        self.epsilon = epsilon\n",
    "        self.dense = layers.Dense(filters,\n",
    "                                  activation = 'relu',\n",
    "                                  kernel_initializer='he_uniform',\n",
    "                                  bias_initializer='he_uniform')\n",
    "        self.dense_gamma = layers.Dense(filters,\n",
    "                                        kernel_initializer='he_uniform',\n",
    "                                        bias_initializer='he_uniform')\n",
    "        self.dense_beta = layers.Dense(filters,\n",
    "                                       kernel_initializer='he_uniform',\n",
    "                                       bias_initializer='he_uniform')\n",
    "\n",
    "    def call(self, input_tensor, style_vector):\n",
    "        x = self.dense(style_vector)\n",
    "        gamma = self.dense_gamma(x)\n",
    "        beta = self.dense_beta(x)\n",
    "        #Normalize x[0]\n",
    "        mean, var = tf.nn.moments(input_tensor, axes=(0, 1, 2), keepdims=True)\n",
    "        std = tf.sqrt(var + self.epsilon)\n",
    "        normalized = (input_tensor - mean) / std\n",
    "        y = (x[0] - mean) / std\n",
    "\n",
    "        #Reshape gamma and beta\n",
    "        pool_shape = [-1, 1, 1, y.shape[-1]]\n",
    "        gamma = tf.reshape(gamma, pool_shape) + 1.0\n",
    "        beta = tf.reshape(beta, pool_shape)\n",
    "\n",
    "        return gamma * normalized + beta"
   ]
  },
  {
   "attachments": {},
   "cell_type": "markdown",
   "metadata": {},
   "source": [
    "### Feature extraction CNN"
   ]
  },
  {
   "cell_type": "code",
   "execution_count": 3,
   "metadata": {},
   "outputs": [
    {
     "name": "stdout",
     "output_type": "stream",
     "text": [
      "Model: \"model\"\n",
      "_________________________________________________________________\n",
      " Layer (type)                Output Shape              Param #   \n",
      "=================================================================\n",
      " input_1 (InputLayer)        [(None, 256, 512, 5)]     0         \n",
      "                                                                 \n",
      " conv2d (Conv2D)             (None, 256, 512, 64)      8064      \n",
      "                                                                 \n",
      " conv2d_1 (Conv2D)           (None, 256, 512, 64)      4160      \n",
      "                                                                 \n",
      " max_pooling2d (MaxPooling2D  (None, 128, 256, 64)     0         \n",
      " )                                                               \n",
      "                                                                 \n",
      " conv2d_2 (Conv2D)           (None, 128, 256, 128)     204928    \n",
      "                                                                 \n",
      " conv2d_3 (Conv2D)           (None, 128, 256, 128)     16512     \n",
      "                                                                 \n",
      " max_pooling2d_1 (MaxPooling  (None, 64, 128, 128)     0         \n",
      " 2D)                                                             \n",
      "                                                                 \n",
      " conv2d_4 (Conv2D)           (None, 64, 128, 256)      819456    \n",
      "                                                                 \n",
      " conv2d_5 (Conv2D)           (None, 64, 128, 256)      65792     \n",
      "                                                                 \n",
      " max_pooling2d_2 (MaxPooling  (None, 32, 64, 256)      0         \n",
      " 2D)                                                             \n",
      "                                                                 \n",
      " conv2d_6 (Conv2D)           (None, 32, 64, 512)       3277312   \n",
      "                                                                 \n",
      " conv2d_7 (Conv2D)           (None, 32, 64, 512)       262656    \n",
      "                                                                 \n",
      " max_pooling2d_3 (MaxPooling  (None, 16, 32, 512)      0         \n",
      " 2D)                                                             \n",
      "                                                                 \n",
      " conv2d_8 (Conv2D)           (None, 16, 32, 1024)      525312    \n",
      "                                                                 \n",
      " conv2d_9 (Conv2D)           (None, 16, 32, 1024)      1049600   \n",
      "                                                                 \n",
      " up_sampling2d (UpSampling2D  (None, 32, 64, 1024)     0         \n",
      " )                                                               \n",
      "                                                                 \n",
      " conv2d_10 (Conv2D)          (None, 32, 64, 512)       524800    \n",
      "                                                                 \n",
      " conv2d_11 (Conv2D)          (None, 32, 64, 512)       262656    \n",
      "                                                                 \n",
      "=================================================================\n",
      "Total params: 7,021,248\n",
      "Trainable params: 7,021,248\n",
      "Non-trainable params: 0\n",
      "_________________________________________________________________\n"
     ]
    }
   ],
   "source": [
    "def feature_extraction_unet(n_out_features = 128, n_base_features = 64, input_shape = (256,512,5)):\n",
    "    inputs = keras.Input(shape = input_shape)\n",
    "    conv1 = conv_block(feat_dim = n_base_features,\n",
    "                       reps = 1, x = inputs,\n",
    "                       kernel_size = 5)\n",
    "    conv2 = conv_block(feat_dim = n_base_features*2,\n",
    "                       reps = 1, x = conv1,\n",
    "                       kernel_size = 5,\n",
    "                       mode = 'down')\n",
    "    conv3 = conv_block(feat_dim = n_base_features*4,\n",
    "                       reps = 1, x = conv2,\n",
    "                       kernel_size = 5,\n",
    "                       mode = 'down')\n",
    "    conv4 = conv_block(feat_dim = n_base_features*8,\n",
    "                       reps = 1, x = conv3,\n",
    "                       kernel_size = 5,\n",
    "                       mode = 'down')\n",
    "    conv5 = conv_block(feat_dim = n_base_features*16,\n",
    "                       reps = 1, x = conv4,\n",
    "                       kernel_size = 1,\n",
    "                       mode = 'down')\n",
    "    conv6 = conv_block(feat_dim = n_base_features*8,\n",
    "                       reps = 1, x = conv5,\n",
    "                       kernel_size = 1,\n",
    "                       mode = 'up')\n",
    "    # concat7 = Concatenate()([conv6,conv3])\n",
    "    # conv7 = conv_block(feat_dim = n_base_features*4,\n",
    "    #                    reps = 1, x = concat7,\n",
    "    #                    kernel_size = 1,\n",
    "    #                    mode = 'up')\n",
    "    \n",
    "    # conv8 = conv_block(feat_dim = n_base_features*2,\n",
    "    #                    reps = 1, x = conv7,\n",
    "    #                    kernel_size = 1,\n",
    "    #                    mode = 'up')\n",
    "    # concat9 = Concatenate()([conv8,conv1])\n",
    "    # conv9 = conv_block(feat_dim = n_out_features,\n",
    "    #                    reps = 1, x = concat9,\n",
    "    #                    kernel_size = 1,\n",
    "    #                    mode = 'normal')\n",
    "\n",
    "    unet = keras.Model(inputs, conv6)\n",
    "    return unet\n",
    "feature_extraction_unet().summary()"
   ]
  },
  {
   "cell_type": "code",
   "execution_count": null,
   "metadata": {},
   "outputs": [],
   "source": [
    "\n",
    "\n",
    "# Feature extraction CNN\n",
    "\n",
    "# Differentiator CNN\n",
    "\n",
    "# Integrator CNN\n",
    "\n",
    "# PARCv2"
   ]
  },
  {
   "attachments": {},
   "cell_type": "markdown",
   "metadata": {},
   "source": [
    "# Data pipeline"
   ]
  },
  {
   "cell_type": "code",
   "execution_count": null,
   "metadata": {},
   "outputs": [],
   "source": []
  },
  {
   "attachments": {},
   "cell_type": "markdown",
   "metadata": {},
   "source": [
    "# Training"
   ]
  },
  {
   "cell_type": "code",
   "execution_count": null,
   "metadata": {},
   "outputs": [],
   "source": []
  },
  {
   "attachments": {},
   "cell_type": "markdown",
   "metadata": {},
   "source": [
    "# Validation"
   ]
  },
  {
   "cell_type": "code",
   "execution_count": null,
   "metadata": {},
   "outputs": [],
   "source": []
  }
 ],
 "metadata": {
  "kernelspec": {
   "display_name": "tf",
   "language": "python",
   "name": "python3"
  },
  "language_info": {
   "codemirror_mode": {
    "name": "ipython",
    "version": 3
   },
   "file_extension": ".py",
   "mimetype": "text/x-python",
   "name": "python",
   "nbconvert_exporter": "python",
   "pygments_lexer": "ipython3",
   "version": "3.9.15"
  },
  "orig_nbformat": 4
 },
 "nbformat": 4,
 "nbformat_minor": 2
}
