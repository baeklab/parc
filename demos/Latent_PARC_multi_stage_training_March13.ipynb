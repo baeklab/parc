{
 "cells": [
  {
   "cell_type": "code",
   "execution_count": 1,
   "metadata": {},
   "outputs": [],
   "source": [
    "import numpy as np\n",
    "import matplotlib.pyplot as plt\n",
    "\n",
    "from tensorflow import keras\n",
    "from tensorflow.keras import layers, regularizers\n",
    "from keras.layers import *\n",
    "\n",
    "import tensorflow as tf\n",
    "\n",
    "from keras import backend as K"
   ]
  },
  {
   "cell_type": "markdown",
   "metadata": {},
   "source": [
    "## Network building blocks"
   ]
  },
  {
   "cell_type": "code",
   "execution_count": 2,
   "metadata": {},
   "outputs": [],
   "source": [
    "def resnet_unit(feat_dim, kernel_size, x_in):\n",
    "    # conv = Conv2D(feats, kernel, padding=\"same\")\n",
    "    res = keras.Sequential([\n",
    "        Conv2D(feat_dim, kernel_size, padding=\"same\"\n",
    "               ,kernel_initializer='he_uniform'\n",
    "               ,bias_initializer='he_uniform',\n",
    "               kernel_regularizer=regularizers.L1L2(l1=1e-5, l2=1e-4)\n",
    "              ),\n",
    "        ReLU(),\n",
    "        Conv2D(feat_dim, kernel_size, padding=\"same\", \n",
    "               kernel_initializer='he_uniform',\n",
    "               bias_initializer='he_uniform',\n",
    "               kernel_regularizer=regularizers.L1L2(l1=1e-5, l2=1e-4)),\n",
    "    ])\n",
    "    return ReLU()(x_in + res(x_in))\n",
    "\n",
    "def resnet_block(feat_dim, reps, x_in, pooling = True):\n",
    "    # Stage 2\n",
    "    conv1 = Conv2D(feat_dim, 3, padding=\"same\", kernel_initializer='he_uniform',\n",
    "               bias_initializer='he_uniform',kernel_regularizer=regularizers.L1L2(l1=1e-5, l2=1e-4))(x_in)\n",
    "    relu1 = ReLU()(conv1)\n",
    "    conv2 = Conv2D(feat_dim, 3, padding=\"same\", kernel_initializer='he_uniform',\n",
    "               bias_initializer='he_uniform',kernel_regularizer=regularizers.L1L2(l1=1e-5, l2=1e-4))(relu1)\n",
    "    x = ReLU()(conv2)\n",
    "    for _ in range(reps):\n",
    "        x = resnet_unit(feat_dim,3,x)\n",
    "    if pooling == True:\n",
    "        x = MaxPooling2D(2,2)(x)\n",
    "        return x\n",
    "    else:\n",
    "        return x\n",
    "\n",
    "class SPADE(layers.Layer):\n",
    "    def __init__(self, filters, epsilon=1e-5, **kwargs):\n",
    "        super().__init__(**kwargs)\n",
    "        self.epsilon = epsilon\n",
    "        self.conv = layers.Conv2D(filters, 3, padding=\"same\", activation=\"relu\",kernel_initializer='he_uniform',\n",
    "               bias_initializer='he_uniform',kernel_regularizer=regularizers.L1L2(l1=1e-5, l2=1e-4))\n",
    "        self.conv_gamma = layers.Conv2D(filters, 3, padding=\"same\",kernel_initializer='he_uniform',\n",
    "               bias_initializer='he_uniform',kernel_regularizer=regularizers.L1L2(l1=1e-5, l2=1e-4))\n",
    "        self.conv_beta = layers.Conv2D(filters, 3, padding=\"same\",kernel_initializer='he_uniform',\n",
    "               bias_initializer='he_uniform',kernel_regularizer=regularizers.L1L2(l1=1e-5, l2=1e-4))\n",
    "\n",
    "    def build(self, input_shape):\n",
    "        self.resize_shape = input_shape[1:3]\n",
    "\n",
    "    def call(self, input_tensor, raw_mask):\n",
    "        mask = tf.image.resize(raw_mask, self.resize_shape, method=\"nearest\")\n",
    "        x = self.conv(mask)\n",
    "        gamma = self.conv_gamma(x)\n",
    "        beta = self.conv_beta(x)\n",
    "        mean, var = tf.nn.moments(input_tensor, axes=(0, 1, 2), keepdims=True)\n",
    "        std = tf.sqrt(var + self.epsilon)\n",
    "        normalized = (input_tensor - mean) / std\n",
    "        output = gamma * normalized + beta\n",
    "        return output\n",
    "\n",
    "def spade_generator_unit(feats_in, feats_out, kernel, x, mask, upsampling = True):\n",
    "    x = GaussianNoise(0.05)(x)\n",
    "    # SPADE & conv\n",
    "    spade1 = SPADE(feats_in)(x, mask)\n",
    "    conv1 = Conv2D(feats_in,kernel, padding='same', activation= LeakyReLU(0.2),kernel_initializer='he_uniform',\n",
    "               bias_initializer='he_uniform',kernel_regularizer=regularizers.L1L2(l1=1e-5, l2=1e-4))(spade1)\n",
    "   \n",
    "    conv_out = Conv2D(feats_out,kernel, padding='same', kernel_initializer='he_uniform',\n",
    "               bias_initializer='he_uniform',kernel_regularizer=regularizers.L1L2(l1=1e-5, l2=1e-4))(conv1)\n",
    "    output = LeakyReLU(0.2)(conv_out)\n",
    "    if upsampling == True:\n",
    "        output = UpSampling2D(size = (2,2))(output)\n",
    "        return output\n",
    "    else:\n",
    "        return output\n",
    "\n",
    "def resnet_based_encoder(latent_dims = 512, input_shape = (224,448,1)):\n",
    "    inputs = keras.Input(shape = input_shape)\n",
    "    x = Conv2D(64, 7, padding=\"same\", activation = 'relu', kernel_initializer='he_uniform',\n",
    "               bias_initializer='he_uniform', \n",
    "               kernel_regularizer=regularizers.L1L2(l1=1e-5, l2=1e-4))(inputs)\n",
    "    x = MaxPooling2D(2,2)(x)\n",
    "    x1 = resnet_block(64,1,x,pooling = True)\n",
    "    x2 = resnet_block(128,2,x1,pooling = True)\n",
    "    x3 = resnet_block(256,2,x2,pooling = True)\n",
    "    \n",
    "    x3 = Conv2D(64, 1, padding=\"same\", kernel_initializer='he_uniform',\n",
    "               bias_initializer='he_uniform',\n",
    "               kernel_regularizer=regularizers.L1L2(l1=1e-5, l2=1e-4),\n",
    "                activity_regularizer=regularizers.L1(1e-4))(x3)\n",
    "    encoder = keras.Model(inputs, x3)\n",
    "    return encoder\n",
    "# resnet_based_encoder().summary()\n",
    "\n",
    "def spade_based_generator(output_activation = 'linear'):\n",
    "    latent_input = keras.Input(shape = (14,28,64))\n",
    "    latent_input = GaussianNoise(0.1)(latent_input)\n",
    "    sp_bl_init = Conv2D(256, 3, padding=\"same\", activation= LeakyReLU(0.2),\n",
    "                        kernel_initializer='he_uniform', bias_initializer='he_uniform',\n",
    "                        kernel_regularizer=regularizers.L1L2(l1=1e-5, l2=1e-4))(latent_input)\n",
    "    sp_bl2 = spade_generator_unit(256,128,3,sp_bl_init,latent_input, upsampling = True)\n",
    "    sp_bl3 = spade_generator_unit(128,64,3,sp_bl2,latent_input, upsampling = True)\n",
    "    sp_bl4 = spade_generator_unit(64,64,3,sp_bl3,latent_input, upsampling = True)\n",
    "    sp_bl5 = spade_generator_unit(64,64,3,sp_bl4,latent_input, upsampling = True)\n",
    "    if output_activation == 'sigmoid':\n",
    "        recon = Conv2D(1,3,padding=\"same\",activation = 'sigmoid', kernel_initializer='he_uniform',\n",
    "               bias_initializer='he_uniform',\n",
    "                   kernel_regularizer=regularizers.L1L2(l1=1e-5, l2=1e-4) )(sp_bl5)\n",
    "        print('sigmoid')\n",
    "    else:\n",
    "        recon = Conv2D(1,3,padding=\"same\",kernel_initializer='he_uniform',\n",
    "               bias_initializer='he_uniform',\n",
    "                   kernel_regularizer=regularizers.L1L2(l1=1e-5, l2=1e-4) )(sp_bl5)\n",
    "\n",
    "    decoder = keras.Model(latent_input, recon)\n",
    "    return decoder\n",
    "# spade_based_generator().summary()\n",
    "\n",
    "def latent_evolution_model():\n",
    "    latent_input = keras.Input(shape = (14,28,64))\n",
    "    conv1 = Conv2D(64, 1, padding = 'same', activation = LeakyReLU(0.2), kernel_initializer='he_uniform',\n",
    "               bias_initializer='he_uniform', kernel_regularizer=regularizers.L1L2(l1=1e-5, l2=1e-4))(latent_input)\n",
    "    bn1 = BatchNormalization()(conv1)\n",
    "    relu1 = LeakyReLU(0.2)(bn1)\n",
    "    conv2 = Conv2D(64, 1, padding = 'same', activation = LeakyReLU(0.2), kernel_initializer='he_uniform',\n",
    "               bias_initializer='he_uniform', kernel_regularizer=regularizers.L1L2(l1=1e-5, l2=1e-4))(conv1)\n",
    "    bn2 = BatchNormalization()(conv2)\n",
    "    relu2 = LeakyReLU(0.2)(bn2)\n",
    "    conv3 = Conv2D(64, 1, padding = 'same', kernel_initializer='he_uniform',\n",
    "               bias_initializer='he_uniform', kernel_regularizer=regularizers.L1L2(l1=1e-5, l2=1e-4))(conv2)\n",
    "    latent_out = keras.Model(latent_input, conv3)\n",
    "    return latent_out"
   ]
  },
  {
   "cell_type": "markdown",
   "metadata": {},
   "source": [
    "## Model library"
   ]
  },
  {
   "cell_type": "markdown",
   "metadata": {},
   "source": [
    "### Physics-informed autoencoder without latent evolution"
   ]
  },
  {
   "cell_type": "code",
   "execution_count": 3,
   "metadata": {},
   "outputs": [],
   "source": [
    "class PILR(keras.Model):\n",
    "    def __init__(self, **kwargs):\n",
    "        super(PILR, self).__init__(**kwargs)\n",
    "        self.encoder = resnet_based_encoder()\n",
    "        self.decoder = spade_based_generator(output_activation = 'sigmoid')\n",
    "\n",
    "        # loss define\n",
    "        self.total_loss_tracker = keras.metrics.Mean(name=\"total_loss\")\n",
    "\n",
    "    @property\n",
    "    def metrics(self):\n",
    "        return [\n",
    "            self.total_loss_tracker,\n",
    "        ]\n",
    "\n",
    "    def train_step(self, data):\n",
    "        total_loss = 0\n",
    "        with tf.GradientTape() as tape:\n",
    "            # AE loss\n",
    "            latent_micro = self.encoder(data)\n",
    "            recon_micro = self.decoder(latent_micro)\n",
    "            total_loss = tf.keras.losses.BinaryCrossentropy()(data,recon_micro)\n",
    "\n",
    "        grads = tape.gradient(total_loss, self.trainable_weights)\n",
    "        self.optimizer.apply_gradients(zip(grads, self.trainable_weights))\n",
    "        self.total_loss_tracker.update_state(total_loss)\n",
    "\n",
    "        return {\n",
    "            \"total_loss\": self.total_loss_tracker.result(),\n",
    "        }"
   ]
  },
  {
   "cell_type": "markdown",
   "metadata": {},
   "source": [
    "### Physics-informed autoencoder with latent evolution"
   ]
  },
  {
   "cell_type": "code",
   "execution_count": 4,
   "metadata": {},
   "outputs": [],
   "source": [
    "class PILE(keras.Model):\n",
    "    def __init__(self, **kwargs):\n",
    "        super(PILE, self).__init__(**kwargs)\n",
    "        self.encoder = resnet_based_encoder()\n",
    "        self.decoder = spade_based_generator()\n",
    "        self.latent_evolution = latent_evolution_model()\n",
    "        # loss define\n",
    "        self.total_loss_tracker = keras.metrics.Mean(name=\"total_loss\")\n",
    "        self.in_ae_loss_tracker = keras.metrics.Mean(name=\"in_ae_loss\")\n",
    "        self.out_ae_loss_tracker = keras.metrics.Mean(name=\"out_ae_loss\")\n",
    "        self.latent_loss_tracker = keras.metrics.Mean(name=\"latent_loss\")\n",
    "        self.recon_loss_tracker = keras.metrics.Mean(name=\"recon_loss\")\n",
    "\n",
    "    @property\n",
    "    def metrics(self):\n",
    "        return [\n",
    "        self.total_loss_tracker,\n",
    "        self.in_ae_loss_tracker,\n",
    "        self.out_ae_loss_tracker,\n",
    "        self.latent_loss_tracker,\n",
    "        self.recon_loss_tracker\n",
    "        ]\n",
    "\n",
    "    def train_step(self, data):\n",
    "\n",
    "        input_temp = data[0]\n",
    "        output_temp = data[1]\n",
    "        total_loss = 0\n",
    "        with tf.GradientTape() as tape:\n",
    "            # AE loss\n",
    "            latent_temp_in = self.encoder(input_temp)\n",
    "            ae_recon_temp_in = self.decoder(latent_temp_in)\n",
    "            in_ae_loss = tf.keras.losses.MeanSquaredError()(input_temp,ae_recon_temp_in)\n",
    "            latent_temp_out = self.encoder(output_temp)\n",
    "            ae_recon_temp_out = self.decoder(latent_temp_out)\n",
    "            out_ae_loss = tf.keras.losses.MeanSquaredError()(output_temp,ae_recon_temp_out)\n",
    "\n",
    "            ae_loss = in_ae_loss + out_ae_loss\n",
    "\n",
    "            pred_latent_temp_out = self.latent_evolution(latent_temp_in, latent_temp_out)\n",
    "            latent_loss = tf.keras.losses.MeanSquaredError()(pred_latent_temp_out,latent_temp_out)\n",
    "            recon_latent_temp = self.decoder(pred_latent_temp_out)\n",
    "            recon_loss = tf.keras.losses.MeanSquaredError()(output_temp,recon_latent_temp)\n",
    "            \n",
    "\n",
    "            total_loss =  recon_loss + ae_loss + latent_loss\n",
    "            \n",
    "        self.total_loss_tracker.update_state(total_loss)\n",
    "        self.in_ae_loss_tracker.update_state(in_ae_loss)\n",
    "        self.out_ae_loss_tracker.update_state(out_ae_loss)\n",
    "        self.latent_loss_tracker.update_state(latent_loss)\n",
    "        self.recon_loss_tracker.update_state(recon_loss)\n",
    "        grads = tape.gradient(total_loss, self.trainable_weights)\n",
    "        self.optimizer.apply_gradients(zip(grads, self.trainable_weights))\n",
    "\n",
    "\n",
    "        return {\n",
    "            \"total_loss\": self.total_loss_tracker.result(),\n",
    "            \"in_ae_loss\": self.in_ae_loss_tracker.result(),\n",
    "            \"out_ae_loss\": self.out_ae_loss_tracker.result(),\n",
    "            \"latent_loss\": self.latent_loss_tracker.result(),\n",
    "            \"recon_loss\": self.recon_loss_tracker.result(),\n",
    "        }"
   ]
  },
  {
   "cell_type": "markdown",
   "metadata": {},
   "source": [
    "# Learning microstructure latent representation"
   ]
  },
  {
   "cell_type": "markdown",
   "metadata": {},
   "source": [
    "### Load data"
   ]
  },
  {
   "cell_type": "code",
   "execution_count": null,
   "metadata": {},
   "outputs": [],
   "source": [
    "input_micro = []\n",
    "micro_data = np.load('micro_data.npy')\n",
    "for i in range(45):\n",
    "    for j in range(1):\n",
    "        input_micro.append(micro_data[i,:,:,:])\n",
    "input_micro = np.array(input_micro)       \n",
    "print(input_micro.shape)"
   ]
  },
  {
   "cell_type": "markdown",
   "metadata": {},
   "source": [
    "### Traing model"
   ]
  },
  {
   "cell_type": "code",
   "execution_count": 32,
   "metadata": {
    "scrolled": true
   },
   "outputs": [
    {
     "name": "stdout",
     "output_type": "stream",
     "text": [
      "sigmoid\n"
     ]
    }
   ],
   "source": [
    "model_micro = PILR()\n",
    "# model_micro.compile(optimizer = tf.keras.optimizers.Adam(lr=0.00001,beta_1=0.9,beta_2=0.99))\n",
    "# model_micro.fit(input_micro, batch_size = 4, epochs = 1000, shuffle = True)\n",
    "model_micro.encoder.load_weights('micro_enc_new.h5')\n",
    "model_micro.decoder.load_weights('micro_dec_new.h5')"
   ]
  },
  {
   "cell_type": "markdown",
   "metadata": {},
   "source": [
    "### Test"
   ]
  },
  {
   "cell_type": "code",
   "execution_count": null,
   "metadata": {},
   "outputs": [],
   "source": [
    "for idx in range(45,51):\n",
    "    z4 = model_micro.encoder(micro_data[idx:idx+1,:,:,:])\n",
    "    recon_micro = model_micro.decoder(z4)\n",
    "    plt.imshow(np.squeeze(z4[:,:,:,i]), cmap = 'gray', vmin = 0, vmax= 1)\n",
    "    plt.show()\n",
    "    plt.imshow(np.squeeze(micro_data[idx:idx+1,:,:,:]), cmap = 'gray', vmin = 0, vmax= 1)\n",
    "    plt.show()"
   ]
  },
  {
   "cell_type": "markdown",
   "metadata": {},
   "source": [
    "# Learning temperature latent representation"
   ]
  },
  {
   "cell_type": "markdown",
   "metadata": {},
   "source": [
    "## Load data"
   ]
  },
  {
   "cell_type": "code",
   "execution_count": null,
   "metadata": {},
   "outputs": [],
   "source": [
    "# data.shape\n",
    "data = np.load('temp_data.npy')\n",
    "\n",
    "temp_data_in = []\n",
    "temp_data_out = []\n",
    "# micro_data_train = []\n",
    "for i in range(45):\n",
    "    for j in range (23):\n",
    "        temp_data_in.append(data[i,:,:,j:j+1])\n",
    "        temp_data_out.append(data[i,:,:,j+1:j+2])\n",
    "\n",
    "#         micro_data_train.append(micro_data[i:i+1,:,:,j:j+1])\n",
    "temp_in = np.array(temp_data_in)\n",
    "temp_out = np.array(temp_data_out)\n",
    "print(temp_in.shape)\n",
    "print(temp_out.shape)\n",
    "# temp_train = np.array(temp_data_train)\n",
    "# # micro_train = np.array(micro_data_train)\n",
    "# print(temp_train.shape)"
   ]
  },
  {
   "cell_type": "code",
   "execution_count": null,
   "metadata": {
    "scrolled": true
   },
   "outputs": [],
   "source": [
    "# model_temp = PILE()\n",
    "# model_temp.compile(optimizer = tf.keras.optimizers.Adam(lr=0.0001,beta_1=0.9,beta_2=0.99))\n",
    "# model_temp.fit(temp_in, temp_out, batch_size = 4, epochs =100, shuffle = True)\n",
    "\n",
    "model_temp.encoder.save_weights('temp_enc_28_56.h5')\n",
    "model_temp.decoder.save_weights('temp_dec_28_56.h5')\n",
    "model_temp.latent_evolution.save_weights('temp_pile_28_56.h5')"
   ]
  },
  {
   "cell_type": "markdown",
   "metadata": {},
   "source": [
    "### Test model"
   ]
  },
  {
   "cell_type": "code",
   "execution_count": null,
   "metadata": {},
   "outputs": [],
   "source": [
    "model_temp = PILE()\n",
    "model_temp.encoder.load_weights('temp_enc_28_56.h5')\n",
    "model_temp.decoder.load_weights('temp_dec_28_56.h5')\n",
    "model_temp.latent_evolution.load_weights('temp_pile_28_56.h5')"
   ]
  },
  {
   "cell_type": "code",
   "execution_count": null,
   "metadata": {},
   "outputs": [],
   "source": [
    "# data = np.load('temp_data.npy')\n",
    "# # data.shape\n",
    "# temp_data_in_test = []\n",
    "# temp_data_out_test = []\n",
    "# # micro_data_train = []\n",
    "# for i in range(45,51):\n",
    "#     for j in range (21):\n",
    "#         temp_data_in_test.append(data[i,:,:,j:j+1])\n",
    "#         temp_data_out_test.append(data[i,:,:,j+1:j+2])\n",
    "\n",
    "# #         micro_data_train.append(micro_data[i:i+1,:,:,j:j+1])\n",
    "# temp_in_test = np.array(temp_data_in_test)\n",
    "# temp_out_test = np.array(temp_data_out_test)\n",
    "# print(temp_in_test.shape)\n",
    "\n",
    "\n",
    "output = []\n",
    "gt = []\n",
    "\n",
    "for i in range(70,75):\n",
    "    # AE loss\n",
    "    latent_temp = model_temp.encoder(temp_in_test[i:i+1,:,:,:])\n",
    "#     for _ in range(1):\n",
    "#         next_latent = model_temp.latent_evolution(latent_temp)\n",
    "#         latent_temp = next_latent\n",
    "\n",
    "#     recon_tempField = model_temp.decoder(latent_temp)\n",
    "    output.append(latent_temp)\n",
    "#     gt.append(temp_out_test[i:i+1,:,:,:])\n",
    "# gt_next_latent = model_temp.encoder(gt_field_out[:,:,:,:])\n",
    "# gt_latent.append(gt_next_latent)\n",
    "# print(output[0].shape)\n",
    "# fig,ax = plt.subplots(2,5, figsize = (20,4))\n",
    "\n",
    "# for j in range(5):\n",
    "#     ax[0][j].imshow(np.squeeze(output[j]), cmap = 'jet', vmin = 0, vmax = 1)\n",
    "#     ax[1][j].imshow(np.squeeze(gt[j]), cmap = 'jet', vmin = 0, vmax = 1)\n",
    "# plt.show()\n",
    "\n",
    "# fig,ax = plt.subplots(8,8, figsize = (16,8))\n",
    "# for j in range(8):\n",
    "#     ax[0][j].imshow(np.squeeze(output[0][:,:,:,j]), cmap = 'gray')#, vmin = -1, vmax = 1)\n",
    "#     ax[1][j].imshow(np.squeeze(output[0][:,:,:,j+7]), cmap = 'gray')#, vmin = -1, vmax = 1)\n",
    "#     ax[2][j].imshow(np.squeeze(output[0][:,:,:,j+15]), cmap = 'gray')#, vmin = -1, vmax = 1)\n",
    "#     ax[3][j].imshow(np.squeeze(output[0][:,:,:,j+23]), cmap = 'gray')#, vmin = -1, vmax = 1)\n",
    "#     ax[4][j].imshow(np.squeeze(output[0][:,:,:,j+31]), cmap = 'gray')#, vmin = -1, vmax = 1)\n",
    "#     ax[5][j].imshow(np.squeeze(output[0][:,:,:,j+39]), cmap = 'gray')#, vmin = -1, vmax = 1)\n",
    "#     ax[6][j].imshow(np.squeeze(output[0][:,:,:,j+47]), cmap = 'gray')#, vmin = -1, vmax = 1)\n",
    "#     ax[7][j].imshow(np.squeeze(output[0][:,:,:,j+55]), cmap = 'gray')#, vmin = -1, vmax = 1)\n",
    "# plt.show()\n",
    "\n",
    "# plt.imshow(temp_in_test[40,:,:,:], cmap = 'jet', vmin = 0 , vmax = 1)\n",
    "# plt.show()\n",
    "\n",
    "# np.amin(next_latent[:,:,:,:])\n",
    "idx = 15\n",
    "print(np.amax(output[0][:,:,:,idx]))\n",
    "print(np.amin(output[0][:,:,:,idx]))\n",
    "# output[0].shape\n",
    "\n"
   ]
  },
  {
   "cell_type": "markdown",
   "metadata": {},
   "source": [
    "# Latent PARC"
   ]
  },
  {
   "cell_type": "markdown",
   "metadata": {},
   "source": [
    "## Transform data to latent"
   ]
  },
  {
   "cell_type": "code",
   "execution_count": 5,
   "metadata": {},
   "outputs": [
    {
     "name": "stdout",
     "output_type": "stream",
     "text": [
      "sigmoid\n"
     ]
    }
   ],
   "source": [
    "temp_mapping = PILE()\n",
    "temp_mapping.encoder.load_weights('temp_enc_28_56.h5')\n",
    "temp_mapping.encoder.trainable = False\n",
    "temp_mapping.decoder.load_weights('temp_dec_28_56.h5')\n",
    "temp_mapping.decoder.trainable = False\n",
    "temp_mapping.latent_evolution.load_weights('temp_pile_28_56.h5')\n",
    "temp_mapping.latent_evolution.trainable = False\n",
    "\n",
    "micro_mapping = PILR()\n",
    "micro_mapping.encoder.load_weights('micro_enc_new.h5')\n",
    "micro_mapping.encoder.trainable = False\n",
    "micro_mapping.decoder.trainable = False"
   ]
  },
  {
   "cell_type": "code",
   "execution_count": 7,
   "metadata": {},
   "outputs": [
    {
     "name": "stdout",
     "output_type": "stream",
     "text": [
      "(24, 52, 14, 28, 64)\n"
     ]
    }
   ],
   "source": [
    "# # Microstructure\n",
    "micro_data = np.load('micro_data.npy')\n",
    "latent_micro = np.array(micro_mapping.encoder(micro_data))\n",
    "# for feats in range(16):\n",
    "#     max_val = np.amax(latent_micro[:,:,:,feats])\n",
    "#     min_val = np.amin(latent_micro[:,:,:,feats])\n",
    "#     latent_micro[:,:,:,feats:feats+1] = (latent_micro[:,:,:,feats:feats+1] - min_val)/(max_val-min_val)\n",
    "# latent_micro = np.expand_dims(latent_micro, -1)\n",
    "# print(latent_micro.shape)\n",
    "\n",
    "# for feats in range(16):\n",
    "#     plt.imshow(np.squeeze(zt_micro[0,:,:,feats]), vmin = 0, vmax = 1)# Normalize data in latent space\n",
    "#     plt.show()\n",
    "\n",
    "\n",
    "# Temperature\n",
    "data = np.load('temp_data.npy')\n",
    "\n",
    "latent_temp = []\n",
    "for ts in range(24):\n",
    "    zt = temp_mapping.encoder(data[:,:,:,ts])\n",
    "    latent_temp.append(zt)\n",
    "latent_temp = np.array(latent_temp)\n",
    "print(latent_temp.shape)\n",
    "latent_temp = np.moveaxis(latent_temp,0,-1)\n",
    "\n",
    "# print(latent_temp.shape)\n",
    "# max_val_whole = []\n",
    "# min_val_whole = []\n",
    "# for feats in range(64):\n",
    "#     max_val = np.amax(latent_temp[:,:,:,feats,:])\n",
    "#     max_val_whole.append(max_val)\n",
    "#     min_val = np.amin(latent_temp[:,:,:,feats,:])\n",
    "#     min_val_whole.append(min_val)\n",
    "#     latent_temp[:,:,:,feats,:] = (latent_temp[:,:,:,feats,:] - min_val)/(max_val-min_val)\n",
    "\n",
    "# for ts in range(24):\n",
    "#     plt.imshow(np.squeeze(latent_temp[0,:,:,15,ts]), vmin = 0, vmax = 1)# Normalize data in latent space\n",
    "#     plt.show()"
   ]
  },
  {
   "cell_type": "code",
   "execution_count": 8,
   "metadata": {},
   "outputs": [],
   "source": [
    "def latent_physics():\n",
    "    z_m = keras.Input(shape = (14,28,64))\n",
    "    z_t = keras.Input(shape = (14,28,64))\n",
    "    \n",
    "#     concat = Concatenate()([z_m,z_t])\n",
    "    z_m_noise = GaussianNoise(0.05)(z_m)  \n",
    "    z_t_noise = GaussianNoise(0.05)(z_t)  \n",
    "\n",
    "    # spade block\n",
    "    sp_bl = spade_generator_unit(64,128,3,z_t_noise,z_m_noise, upsampling = False)\n",
    "\n",
    "    conv11 = Conv2D(128,1, activation = ELU(), padding = 'same')(sp_bl)\n",
    "    conv21 = Conv2D(128,1, activation = ELU(), padding = 'same')(sp_bl)\n",
    "    conv21 = Conv2D(128,3, activation = ELU(), padding = 'same')(conv21)\n",
    "    conv31 = Conv2D(128,1, activation = ELU(), padding = 'same')(sp_bl)\n",
    "    conv31 = Conv2D(128,5, activation = ELU(), padding = 'same')(conv31)\n",
    "\n",
    "    incept1 = Concatenate()([Concatenate()([conv11,conv21]),conv31])\n",
    "    conv_out1 = Conv2D(256,1, activation = LeakyReLU(0.2), padding = 'same')(incept1)\n",
    "    conv_out2 = Conv2D(512,1, activation = LeakyReLU(0.2), padding = 'same')(conv_out1)\n",
    "    conv_out3 = Conv2D(1024,1, activation = LeakyReLU(0.2), padding = 'same')(conv_out2)\n",
    "    \n",
    "    conv_out = Conv2D(64, 1, padding = 'same', kernel_initializer = 'he_normal')(conv_out3)\n",
    "\n",
    "#     out = z_t + conv_out\n",
    "#     spade1 = SPADE(16)(conv2, z_m_base)\n",
    "#     conv3 = Conv2D(16,3, padding='same', activation= LeakyReLU(0.2),kernel_initializer='he_uniform',\n",
    "#                bias_initializer='he_uniform')(spade1)\n",
    "  \n",
    "    latent_out = keras.Model([z_m, z_t], conv_out)\n",
    "    return latent_out\n",
    "# latent_physics().summary()"
   ]
  },
  {
   "cell_type": "markdown",
   "metadata": {},
   "source": [
    "### Model definition"
   ]
  },
  {
   "cell_type": "code",
   "execution_count": 9,
   "metadata": {},
   "outputs": [],
   "source": [
    "class LatentPARC(keras.Model):\n",
    "    def __init__(self, ts, **kwargs):\n",
    "        super(LatentPARC, self).__init__(**kwargs)\n",
    "        \n",
    "        self.latent_physics = latent_physics()\n",
    "#         self.latent_physics.load_weights('latent_parc_strong_recurrent.h5')\n",
    "#         self.shape_descriptor = shape_descriptor() \n",
    "#         self.shape_descriptor.load_weights('latent_parc_shape_descriptor.h5')\n",
    "        # loss define\n",
    "        self.mapping = PILE()\n",
    "        self.mapping.encoder.load_weights('temp_enc_28_56.h5')\n",
    "        self.mapping.encoder.trainable = False\n",
    "        self.mapping.decoder.load_weights('temp_dec_28_56.h5')\n",
    "        self.mapping.decoder.trainable = False\n",
    "        self.mapping.latent_evolution.load_weights('temp_pile_28_56.h5')\n",
    "        self.mapping.latent_evolution.trainable = False\n",
    "        self.total_loss_tracker = keras.metrics.Mean(name=\"total_loss\")      \n",
    "        self.ts = ts\n",
    "\n",
    "        self.latent_loss_tracker = keras.metrics.Mean(name=\"latent_loss\")\n",
    "        self.recon_loss_tracker = keras.metrics.Mean(name=\"recon_loss\")\n",
    "    @property\n",
    "    def metrics(self):\n",
    "        return [\n",
    "            self.total_loss_tracker,\n",
    "            self.latent_loss_tracker,\n",
    "            self.recon_loss_tracker\n",
    "        ]\n",
    "\n",
    "    def train_step(self, data):\n",
    "        init_temp = data[0][0]\n",
    "        micro = data[0][1]\n",
    "        temp_gt = data[1][0]\n",
    "        temp = data[1][1]\n",
    "        latent_loss = 0\n",
    "        recon_loss = 0\n",
    "        with tf.GradientTape() as tape:\n",
    "#             shape_descriptor = self.shape_descriptor(micro)\n",
    "            latent_current = init_temp\n",
    "            for i in range(self.ts):\n",
    "                latent_next = self.latent_physics([micro,latent_current])\n",
    "                latent_current = latent_next\n",
    "    #                 latent_gt = tf.squeeze(temp_gt[:,:,:,:,i])\n",
    "                iter_latent_loss = tf.keras.losses.MeanSquaredError()(latent_next,temp_gt[:,:,:,:,i])\n",
    "                recon = self.mapping.decoder(latent_next)\n",
    "                iter_recon_loss = tf.keras.losses.MeanSquaredError()(recon,temp[:,:,:,i])\n",
    "                \n",
    "                latent_loss += iter_latent_loss\n",
    "                recon_loss += iter_recon_loss\n",
    "\n",
    "            total_loss = 0.7*recon_loss + 0.3*latent_loss\n",
    "        grads = tape.gradient(total_loss, self.trainable_weights)\n",
    "        self.optimizer.apply_gradients(zip(grads, self.trainable_weights))\n",
    "        \n",
    "        self.total_loss_tracker.update_state(total_loss)\n",
    "        self.latent_loss_tracker.update_state(latent_loss)\n",
    "        self.recon_loss_tracker.update_state(recon_loss)\n",
    "        return {\n",
    "            \"total_loss\": self.total_loss_tracker.result(),\n",
    "            \"latent_loss\": self.latent_loss_tracker.result(),\n",
    "            \"recon_loss\": self.recon_loss_tracker.result(),\n",
    "        }"
   ]
  },
  {
   "cell_type": "code",
   "execution_count": 19,
   "metadata": {},
   "outputs": [
    {
     "name": "stdout",
     "output_type": "stream",
     "text": [
      "(630, 14, 28, 64)\n"
     ]
    }
   ],
   "source": [
    "input_micro = []\n",
    "for i in range(45):\n",
    "    for j in range(14):\n",
    "        input_micro.append(latent_micro[i,:,:,:])\n",
    "input_micro = np.array(input_micro)       \n",
    "print(input_micro.shape)"
   ]
  },
  {
   "cell_type": "code",
   "execution_count": 20,
   "metadata": {},
   "outputs": [
    {
     "name": "stdout",
     "output_type": "stream",
     "text": [
      "(630, 14, 28, 64, 1)\n",
      "(630, 14, 28, 64, 10)\n",
      "(630, 224, 448, 10)\n"
     ]
    }
   ],
   "source": [
    "# data.shape\n",
    "temp_data_in = []\n",
    "temp_data_out = []\n",
    "temp = []\n",
    "# micro_data_train = []\n",
    "for i in range(45):\n",
    "    for j in range (14):\n",
    "        temp_data_in.append(latent_temp[i,:,:,:,j:j+1])\n",
    "        temp_data_out.append(latent_temp[i,:,:,:,j+1:j+11])\n",
    "        temp.append(data[i,:,:,j+1:j+11])\n",
    "#         micro_data_train.append(micro_data[i:i+1,:,:,j:j+1])\n",
    "temp_in = np.array(temp_data_in)\n",
    "temp_out = np.array(temp_data_out)\n",
    "temp = np.array(temp)\n",
    "\n",
    "print(temp_in.shape)\n",
    "print(temp_out.shape)\n",
    "print(temp.shape)\n",
    "\n",
    "# temp_train = np.array(temp_data_train)\n",
    "# # micro_train = np.array(micro_data_train)\n",
    "# print(temp_train.shape)"
   ]
  },
  {
   "cell_type": "code",
   "execution_count": null,
   "metadata": {
    "scrolled": true
   },
   "outputs": [],
   "source": [
    "parc = LatentPARC(ts = 1)\n",
    "parc.compile(optimizer = tf.keras.optimizers.Adam(lr=0.00005,beta_1=0.5,beta_2=0.99))\n",
    "parc.fit([temp_in,input_micro],[temp_out,temp], batch_size = 4, epochs = 100, shuffle = True)"
   ]
  },
  {
   "cell_type": "code",
   "execution_count": 16,
   "metadata": {},
   "outputs": [],
   "source": [
    "parc.latent_physics.save_weights('latent_parc_strong_recurrent.h5')\n",
    "# parc.shape_descriptor.save_weights('latent_parc_shape_descriptor_strong_recurrent.h5')"
   ]
  },
  {
   "cell_type": "code",
   "execution_count": null,
   "metadata": {
    "scrolled": true
   },
   "outputs": [],
   "source": [
    "parc = LatentPARC(ts = 2)\n",
    "parc.latent_physics.load_weights('latent_parc_strong_recurrent.h5')\n",
    "parc.compile(optimizer = tf.keras.optimizers.Adam(lr=0.00005,beta_1=0.5,beta_2=0.99))\n",
    "parc.fit([temp_in,input_micro],[temp_out,temp], batch_size = 4, epochs = 100, shuffle = True)\n",
    "parc.latent_physics.save_weights('latent_parc_strong_recurrent_2.h5')"
   ]
  },
  {
   "cell_type": "code",
   "execution_count": null,
   "metadata": {
    "scrolled": true
   },
   "outputs": [],
   "source": [
    "parc = LatentPARC(ts = 3)\n",
    "parc.latent_physics.load_weights('latent_parc_strong_recurrent_2.h5')\n",
    "parc.compile(optimizer = tf.keras.optimizers.Adam(lr=0.00005,beta_1=0.5,beta_2=0.99))\n",
    "parc.fit([temp_in,input_micro],[temp_out,temp], batch_size = 4, epochs = 100, shuffle = True)\n",
    "parc.latent_physics.save_weights('latent_parc_strong_recurrent_3.h5')"
   ]
  },
  {
   "cell_type": "code",
   "execution_count": null,
   "metadata": {
    "scrolled": true
   },
   "outputs": [],
   "source": [
    "parc = LatentPARC(ts = 4)\n",
    "parc.latent_physics.load_weights('latent_parc_strong_recurrent_3.h5')\n",
    "parc.compile(optimizer = tf.keras.optimizers.Adam(lr=0.00005,beta_1=0.5,beta_2=0.99))\n",
    "parc.fit([temp_in,input_micro],[temp_out,temp], batch_size = 4, epochs = 100, shuffle = True)\n",
    "parc.latent_physics.save_weights('latent_parc_strong_recurrent_4.h5')"
   ]
  },
  {
   "cell_type": "code",
   "execution_count": null,
   "metadata": {
    "scrolled": true
   },
   "outputs": [],
   "source": [
    "parc = LatentPARC(ts = 5)\n",
    "parc.latent_physics.load_weights('latent_parc_strong_recurrent_4.h5')\n",
    "parc.compile(optimizer = tf.keras.optimizers.Adam(lr=0.00005,beta_1=0.5,beta_2=0.99))\n",
    "parc.fit([temp_in,input_micro],[temp_out,temp], batch_size = 4, epochs = 100, shuffle = True)\n",
    "parc.latent_physics.save_weights('latent_parc_strong_recurrent_5.h5')"
   ]
  },
  {
   "cell_type": "code",
   "execution_count": 40,
   "metadata": {
    "scrolled": true
   },
   "outputs": [],
   "source": [
    "# parc = LatentPARC(ts = 6)\n",
    "parc.latent_physics.load_weights('latent_parc_strong_recurrent_8.h5')\n",
    "# parc.compile(optimizer = tf.keras.optimizers.Adam(lr=0.00005,beta_1=0.5,beta_2=0.99))\n",
    "# parc.fit([temp_in,input_micro],[temp_out,temp], batch_size = 4, epochs = 100, shuffle = True)\n",
    "# parc.latent_physics.save_weights('latent_parc_strong_recurrent_6.h5')"
   ]
  },
  {
   "cell_type": "code",
   "execution_count": null,
   "metadata": {
    "scrolled": true
   },
   "outputs": [],
   "source": [
    "parc = LatentPARC(ts = 7)\n",
    "parc.latent_physics.load_weights('latent_parc_strong_recurrent_6.h5')\n",
    "parc.compile(optimizer = tf.keras.optimizers.Adam(lr=0.00005,beta_1=0.5,beta_2=0.99))\n",
    "parc.fit([temp_in,input_micro],[temp_out,temp], batch_size = 4, epochs = 100, shuffle = True)\n",
    "parc.latent_physics.save_weights('latent_parc_strong_recurrent_7.h5')"
   ]
  },
  {
   "cell_type": "code",
   "execution_count": null,
   "metadata": {},
   "outputs": [],
   "source": [
    "parc = LatentPARC(ts = 8)\n",
    "parc.latent_physics.load_weights('latent_parc_strong_recurrent_7.h5')\n",
    "parc.compile(optimizer = tf.keras.optimizers.Adam(lr=0.00005,beta_1=0.5,beta_2=0.99))\n",
    "parc.fit([temp_in,input_micro],[temp_out,temp], batch_size = 4, epochs = 20, shuffle = True)\n",
    "parc.latent_physics.save_weights('latent_parc_strong_recurrent_8.h5')"
   ]
  },
  {
   "cell_type": "code",
   "execution_count": 36,
   "metadata": {},
   "outputs": [],
   "source": [
    "parc = LatentPARC(ts = 10)\n",
    "parc.latent_physics.load_weights('latent_parc_strong_recurrent_6.h5')"
   ]
  },
  {
   "cell_type": "code",
   "execution_count": 40,
   "metadata": {},
   "outputs": [
    {
     "name": "stdout",
     "output_type": "stream",
     "text": [
      "(7, 14, 28, 64)\n",
      "(7, 14, 28, 64, 22)\n",
      "(7, 14, 28, 64, 22)\n",
      "(7, 224, 448, 22)\n"
     ]
    },
    {
     "data": {
      "image/png": "[encoded data removed]",
      "text/plain": [
       "<Figure size 432x288 with 1 Axes>"
      ]
     },
     "metadata": {
      "needs_background": "light"
     },
     "output_type": "display_data"
    },
    {
     "data": {
      "image/png": "[encoded data removed]",
      "text/plain": [
       "<Figure size 1728x720 with 40 Axes>"
      ]
     },
     "metadata": {
      "needs_background": "light"
     },
     "output_type": "display_data"
    }
   ],
   "source": [
    "data = np.load('temp_data.npy')\n",
    "micro_data = np.load('micro_data.npy')\n",
    "\n",
    "input_micro_test = []\n",
    "for i in range(45,52):\n",
    "    for j in range(1):\n",
    "        input_micro_test.append(latent_micro[i,:,:,:])\n",
    "input_micro_test = np.array(input_micro_test)      \n",
    "# input_micro_test = np.expand_dims(input_micro_test, -1)\n",
    "print(input_micro_test.shape)\n",
    "\n",
    "temp_data_in_test = []\n",
    "temp_data_out_test = []\n",
    "temp_test = []\n",
    "for i in range(45,52):\n",
    "    for j in range (1):\n",
    "        temp_data_in_test.append(latent_temp[i,:,:,:,j+1])\n",
    "        temp_data_out_test.append(latent_temp[i,:,:,:,j+1:j+23])\n",
    "        temp_test.append(data[i,:,:,j+1:j+23])\n",
    "\n",
    "temp_data_in_test = np.array(temp_data_in_test)\n",
    "temp_data_out_test = np.array(temp_data_out_test)\n",
    "temp_test = np.array(temp_test)\n",
    "print(temp_data_out_test.shape)\n",
    "print(temp_data_out_test.shape)\n",
    "print(temp_test.shape)\n",
    "\n",
    "\n",
    "idx = 3\n",
    "\n",
    "zt_current = temp_data_in_test[idx:idx+1,:,:,:]\n",
    "zm = input_micro_test[idx:idx+1,:,:,:]\n",
    "\n",
    "output = []\n",
    "gt = []\n",
    "for i in range(20):\n",
    "#     zt_next = parc.latent_physics([zm,zt_current])\n",
    "    zt_next = parc.latent_physics([zm,zt_current])\n",
    "    zt_current = zt_next\n",
    "\n",
    "    recon = parc.mapping.decoder(zt_next)\n",
    "    output.append(np.array(recon))\n",
    "\n",
    "    gt.append(temp_test[idx:idx+1,:,:,i])\n",
    "\n",
    "# output[0].shape\n",
    "# ts = 0\n",
    "# fig,ax = plt.subplots(4,8, figsize = (40,10))\n",
    "# for j in range(4):\n",
    "#     ax[j][0].imshow(np.squeeze(output[ts][:,:,:,j]), cmap = 'jet')#, vmin = 0, vmax = 1)\n",
    "#     ax[j][1].imshow(np.squeeze(gt[ts][:,:,:,j]), cmap = 'jet')#, vmin = 0, vmax = 1)\n",
    "#     ax[j][2].imshow(np.squeeze(output[ts][:,:,:,j+4]), cmap = 'jet')#, vmin = 0, vmax = 1)\n",
    "#     ax[j][3].imshow(np.squeeze(gt[ts][:,:,:,j+4]), cmap = 'jet')#, vmin = 0, vmax = 1)\n",
    "#     ax[j][4].imshow(np.squeeze(output[ts][:,:,:,j+8]), cmap = 'jet')#, vmin = 0, vmax = 1)\n",
    "#     ax[j][5].imshow(np.squeeze(gt[ts][:,:,:,j+8]), cmap = 'jet')#, vmin = 0, vmax = 1)\n",
    "#     ax[j][6].imshow(np.squeeze(output[ts][:,:,:,j+12]), cmap = 'jet')#, vmin = 0, vmax = 1)\n",
    "#     ax[j][7].imshow(np.squeeze(gt[ts][:,:,:,j+12]), cmap = 'jet')#, vmin = 0, vmax = 1)\n",
    "    \n",
    "    \n",
    "# for i in range(20):\n",
    "#     print('ts ',i)\n",
    "#     plt.imshow(np.squeeze(output[i]), cmap = 'jet', vmin = 0, vmax = 1)\n",
    "#     plt.show()\n",
    "#     plt.imshow(np.squeeze(gt[i]), cmap = 'jet', vmin = 0, vmax = 1)\n",
    "#     plt.show()\n",
    "    \n",
    "# print(output[i].shape)\n",
    "# for feats in range(64):\n",
    "# #     print('Mode ', feats+1)\n",
    "#     max_val = max_val_whole[feats]\n",
    "#     min_val = min_val_whole[feats]\n",
    "#     for i in range(22):\n",
    "#         output[i][:,:,:,feats:feats+1] = output[i][:,:,:,feats:feats+1]*(max_val-min_val) + min_val\n",
    "\n",
    "# temp = []\n",
    "# for i in range(22):\n",
    "#     recon = temp_mapping.decoder(output[i])\n",
    "#     temp.append(recon)\n",
    "plt.imshow(np.squeeze(micro_data[idx+45,:,:,:]), cmap = 'gray', vmin = 0, vmax = 1)\n",
    "plt.show()\n",
    "\n",
    "fig,ax = plt.subplots(5,8, figsize = (24,10))\n",
    "for j in range(5):\n",
    "    ax[j][0].imshow(np.squeeze(output[j]), cmap = 'jet', vmin = 0, vmax = 1)\n",
    "    ax[j][1].imshow(np.squeeze(gt[j]), cmap = 'jet', vmin = 0, vmax = 1)\n",
    "    ax[j][2].imshow(np.squeeze(output[j+5]), cmap = 'jet', vmin = 0, vmax = 1)\n",
    "    ax[j][3].imshow(np.squeeze(gt[j+5]), cmap = 'jet', vmin = 0, vmax = 1)\n",
    "    ax[j][4].imshow(np.squeeze(output[j+10]), cmap = 'jet', vmin = 0, vmax = 1)\n",
    "    ax[j][5].imshow(np.squeeze(gt[j+10]), cmap = 'jet', vmin = 0, vmax = 1)\n",
    "    ax[j][6].imshow(np.squeeze(output[j+15]), cmap = 'jet', vmin = 0, vmax = 1)\n",
    "    ax[j][7].imshow(np.squeeze(gt[j+15]), cmap = 'jet', vmin = 0, vmax = 1)\n",
    "plt.show()\n"
   ]
  },
  {
   "cell_type": "code",
   "execution_count": 31,
   "metadata": {},
   "outputs": [
    {
     "data": {
      "text/plain": [
       "16"
      ]
     },
     "execution_count": 31,
     "metadata": {},
     "output_type": "execute_result"
    }
   ],
   "source": [
    "len(max_val_whole)"
   ]
  },
  {
   "cell_type": "code",
   "execution_count": null,
   "metadata": {},
   "outputs": [],
   "source": [
    "output = []\n",
    "# latent_temp_current = input_test[0]\n",
    "\n",
    "# for i in range(23):\n",
    "        latent_temp_next = parc.latent_diff([input_data[0][5:6,:,:,:], input_data[1][5:6,:,:,:]])\n",
    "        temp_recon = void_collapse_latent_space.latent_mapping.temp_decoder(latent_temp_next)\n",
    "\n",
    "        output.append(temp_recon)\n",
    "        latent_temp_current = latent_temp_next\n",
    "\n"
   ]
  },
  {
   "cell_type": "code",
   "execution_count": null,
   "metadata": {},
   "outputs": [],
   "source": [
    "plt.imshow(np.squeeze(input_test[1][:,:,:,3]))"
   ]
  },
  {
   "cell_type": "code",
   "execution_count": null,
   "metadata": {},
   "outputs": [],
   "source": [
    "for i in range(16):\n",
    "    plt.imshow(np.squeeze(output[i][:,:,:,0]), cmap= 'jet')#, vmin=0,vmax=1)\n",
    "    plt.show()"
   ]
  },
  {
   "cell_type": "code",
   "execution_count": null,
   "metadata": {},
   "outputs": [],
   "source": [
    "def latent_evo_low_res():\n",
    "    z_m = keras.Input(shape = (7,14,512))\n",
    "    z_t = keras.Input(shape = (7,14,512))\n",
    "\n",
    "    concat = Concatenate()([z_m,z_t])\n",
    "    conv1 = Conv2D(512, 3, activation='relu', padding = 'same')(concat)\n",
    "    conv2 = Conv2D(512, 3, activation='relu', padding = 'same')(conv1)\n",
    "    conv3 = Conv2D(512, 3, activation='relu', padding = 'same')(conv2)\n",
    "\n",
    "    latent_out = keras.Model([z_m, z_t], conv3)\n",
    "    return latent_out\n",
    "# style_gan_based_generator().summary()\n",
    "\n",
    "def latent_evo_high_res():\n",
    "    z_m = keras.Input(shape = (28,56,128))\n",
    "    z_t = keras.Input(shape = (28,56,128))\n",
    "\n",
    "    concat = Concatenate()([z_m,z_t])\n",
    "    conv1 = Conv2D(128, 5, activation='relu', padding = 'same')(concat)\n",
    "    conv2 = Conv2D(128, 5, activation='relu', padding = 'same')(conv1)\n",
    "    conv3 = Conv2D(128, 5, activation='relu', padding = 'same')(conv2)\n",
    "\n",
    "    latent_out = keras.Model([z_m, z_t], conv3)\n",
    "    return latent_out\n",
    "# style_gan_based_generator().summary()"
   ]
  },
  {
   "cell_type": "code",
   "execution_count": null,
   "metadata": {},
   "outputs": [],
   "source": [
    "class latentPARC(keras.Model):\n",
    "    def __init__(self, ts, **kwargs):\n",
    "        super(latentPARC, self).__init__(**kwargs)\n",
    "        self.t_AE = temp_AE()\n",
    "        self.t_AE.encoder.load_weights('temp_enc_with_noise.h5')\n",
    "        self.t_AE.encoder.trainable = False\n",
    "        self.t_AE.decoder.load_weights('temp_dec_new.h5')\n",
    "        self.t_AE.decoder.trainable = False\n",
    "\n",
    "        self.m_AE = micro_AE()\n",
    "        self.m_AE.encoder.load_weights('micro_enc.h5')\n",
    "        self.m_AE.encoder.trainable = False\n",
    "        self.m_AE.decoder.trainable = False\n",
    "        \n",
    "        self.lat_evo_high_res = latent_evo_high_res()\n",
    "        self.lat_evo_high_res.load_weights('high_res_lat_evo.h5')\n",
    "\n",
    "        self.lat_evo_low_res = latent_evo_low_res()\n",
    "        self.lat_evo_low_res.load_weights('low_res_lat_evo.h5')\n",
    "\n",
    "        # loss define\n",
    "        self.total_loss_tracker = keras.metrics.Mean(name=\"total_loss\")\n",
    "        self.latent_loss_tracker = keras.metrics.Mean(name=\"latent_loss\")\n",
    "        self.recon_loss_tracker = keras.metrics.Mean(name=\"recon_loss\")\n",
    "        \n",
    "        self.ts = ts\n",
    "\n",
    "    @property\n",
    "    def metrics(self):\n",
    "        return [\n",
    "            self.total_loss_tracker,\n",
    "            self.latent_loss_tracker,\n",
    "            self.recon_loss_tracker\n",
    "        ]\n",
    "\n",
    "    def train_step(self, data):\n",
    "        batch = data[0][0].get_shape()[0]\n",
    "        init_temp = data[0][0]\n",
    "        micro = data[0][1]\n",
    "        temp_gt = data[1]\n",
    "        recon_loss = 0\n",
    "        latent_loss = 0\n",
    "        ae_loss = 0\n",
    "        with tf.GradientTape(persistent = True) as tape:\n",
    "            for i in range(self.ts):\n",
    "                if i != 0:\n",
    "                    iter_latent_loss, iter_recon_loss, iter_ae_loss, recon_temp = self.recurrent_func(current_temp, micro, temp_gt[:,:,:,i:i+1])\n",
    "                else:\n",
    "                    current_temp = init_temp\n",
    "                    iter_latent_loss, iter_recon_loss, iter_ae_loss, recon_temp = self.recurrent_func(current_temp, micro, temp_gt[:,:,:,i:i+1])\n",
    "                    \n",
    "                latent_loss += iter_latent_loss\n",
    "                recon_loss += iter_recon_loss\n",
    "                ae_loss += iter_ae_loss\n",
    "                current_temp = recon_temp\n",
    "            total_loss = latent_loss + recon_loss\n",
    "#             total_loss_2 = total_loss + ae_loss\n",
    "#             total_loss_temp_ae = 0.0005*total_loss\n",
    "            \n",
    "        grads = tape.gradient(total_loss, self.trainable_weights)\n",
    "        self.optimizer.apply_gradients(zip(grads, self.trainable_weights))\n",
    "        \n",
    "#         grads_2 = tape.gradient(total_loss_2, self.lat_evo_low_res.trainable_weights)\n",
    "#         self.optimizer.apply_gradients(zip(grads_2, self.lat_evo_low_res.trainable_weights))\n",
    "        \n",
    "#         grads_3 = tape.gradient(total_loss_temp_ae, self.t_AE.trainable_weights)\n",
    "#         self.optimizer.apply_gradients(zip(grads_3, self.t_AE.trainable_weights))\n",
    "        \n",
    "        self.total_loss_tracker.update_state(total_loss)\n",
    "        self.recon_loss_tracker.update_state(recon_loss)\n",
    "        self.latent_loss_tracker.update_state(latent_loss)\n",
    "\n",
    "        return {\n",
    "            \"total_loss\": self.total_loss_tracker.result(),\n",
    "            \"latent_loss\": self.latent_loss_tracker.result(),\n",
    "            \"recon_loss\": self.recon_loss_tracker.result(),\n",
    "        }\n",
    "    \n",
    "    def recurrent_func(self, current_temp, in_micro, temp_gt):\n",
    "        \n",
    "        _,zt2,_,zt4 = self.t_AE.encoder(current_temp)\n",
    "        zm2,zm4 = self.m_AE.encoder(in_micro)\n",
    "\n",
    "        zt_out_high = self.lat_evo_high_res([zm2,zt2])\n",
    "        zt_out_low = self.lat_evo_low_res([zm4,zt4])\n",
    "\n",
    "        _,zt2_gt,_,zt4_gt = self.t_AE.encoder(temp_gt)\n",
    "\n",
    "        iter_latent_loss = tf.keras.losses.MeanAbsoluteError()(zt_out_high,zt2_gt) + tf.keras.losses.MeanAbsoluteError()(zt_out_low,zt4_gt)\n",
    "        recon_temp = self.t_AE.decoder([zt_out_high,zt_out_low])\n",
    "        iter_recon_loss = tf.keras.losses.BinaryCrossentropy()(temp_gt,recon_temp)\n",
    "        \n",
    "        recon_gt = self.t_AE.decoder([zt2_gt,zt4_gt])\n",
    "        iter_ae_loss = tf.keras.losses.BinaryCrossentropy()(temp_gt,recon_gt)\n",
    "\n",
    "        return iter_latent_loss, iter_recon_loss, iter_ae_loss, recon_temp"
   ]
  },
  {
   "cell_type": "code",
   "execution_count": null,
   "metadata": {
    "scrolled": true
   },
   "outputs": [],
   "source": [
    "parc = latentPARC(ts = 12)\n",
    "parc.compile(optimizer = tf.keras.optimizers.Adam(lr=0.00005,beta_1=0.9,beta_2=0.99))\n",
    "parc.fit([temp_in,input_micro],temp_out, batch_size = 4, epochs = 35, shuffle = True)\n"
   ]
  },
  {
   "cell_type": "code",
   "execution_count": null,
   "metadata": {},
   "outputs": [],
   "source": [
    "print(temp_in.shape)\n",
    "print(input_micro.shape)"
   ]
  },
  {
   "cell_type": "code",
   "execution_count": null,
   "metadata": {},
   "outputs": [],
   "source": [
    "print(temp_out.shape)"
   ]
  },
  {
   "cell_type": "code",
   "execution_count": null,
   "metadata": {},
   "outputs": [],
   "source": [
    "# parc.t_AE.decoder.save_weights('temp_dec_new.h5')\n",
    "parc.lat_evo_high_res.save_weights('high_res_lat_evo_1.h5')\n",
    "parc.lat_evo_low_res.save_weights('low_res_lat_evo_1.h5')"
   ]
  },
  {
   "cell_type": "code",
   "execution_count": null,
   "metadata": {},
   "outputs": [],
   "source": [
    "# data = np.load('temp_data.npy')\n",
    "\n",
    "# temp_test_in_list = []\n",
    "# temp_test_out_list = []\n",
    "# micro_test_list = []\n",
    "\n",
    "# for i in range(41,51):\n",
    "#     for j in range (22):\n",
    "#         temp_test_in_list.append(data[i,:,:,j:j+1])\n",
    "#         temp_test_out_list.append(data[i,:,:,j+1:j+2])\n",
    "#         micro_test_list.append(micro_data[i,:,:,:])\n",
    "        \n",
    "# temp_test_in = np.array(temp_test_in_list)\n",
    "# temp_test_out = np.array(temp_test_out_list)\n",
    "# micro_test = np.array(micro_test_list)\n",
    "# print(temp_test_out.shape)\n",
    "\n",
    "idx = 46\n",
    "output = []\n",
    "_,zt2,_,zt4 = parc.t_AE.encoder(data[idx:idx+1,:,:,0:1])\n",
    "\n",
    "for i in range(20):\n",
    "    # AE loss\n",
    "    zm2,zm4 = parc.m_AE.encoder(micro_data[idx:idx+1,:,:,:])\n",
    "    zt_out_high = parc.lat_evo_high_res([zm2,zt2])\n",
    "    zt_out_low = parc.lat_evo_low_res([zm4,zt4])\n",
    "\n",
    "    recon_temp = parc.t_AE.decoder([zt_out_high,zt_out_low])\n",
    "    \n",
    "    _,zt2,_,zt4 = parc.t_AE.encoder(recon_temp)\n",
    "    output.append(recon_temp)\n",
    "    \n",
    "for i in range(20):\n",
    "    print(\"Time step \", i)\n",
    "    plt.imshow(np.squeeze(output[i]), cmap = 'jet', vmin = 0, vmax = 1)\n",
    "    plt.show()\n",
    "    plt.imshow(np.squeeze(data[idx:idx+1,:,:,i+1]), cmap = 'jet', vmin = 0, vmax = 1)\n",
    "    plt.show()"
   ]
  },
  {
   "cell_type": "code",
   "execution_count": null,
   "metadata": {},
   "outputs": [],
   "source": [
    "# recon_temp = data[idx:idx+1,:,:,15:16]\n",
    "_,zt2,_,zt4 = parc.t_encoder(recon_temp)\n",
    "zm2,zm4 = parc.m_encoder(micro_data[idx:idx+1,:,:,:])\n",
    "zt_out_high = parc.lat_evo_high_res([zm2,zt2])\n",
    "zt_out_low = parc.lat_evo_low_res([zm4,zt4])\n",
    "\n",
    "recon_temp = parc.t_decoder([zt_out_high,zt_out_low])\n",
    "plt.imshow(np.squeeze(recon_temp))"
   ]
  },
  {
   "cell_type": "code",
   "execution_count": null,
   "metadata": {},
   "outputs": [],
   "source": [
    "plt.imshow(np.squeeze(data[idx:idx+1,:,:,20:21]))"
   ]
  }
 ],
 "metadata": {
  "kernelspec": {
   "display_name": "parc-venv",
   "language": "python",
   "name": "python3"
  },
  "language_info": {
   "codemirror_mode": {
    "name": "ipython",
    "version": 3
   },
   "file_extension": ".py",
   "mimetype": "text/x-python",
   "name": "python",
   "nbconvert_exporter": "python",
   "pygments_lexer": "ipython3",
   "version": "3.9.10"
  }
 },
 "nbformat": 4,
 "nbformat_minor": 4
}
