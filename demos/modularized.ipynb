{
 "cells": [
  {
   "cell_type": "code",
   "execution_count": 1,
   "id": "140d13eb",
   "metadata": {},
   "outputs": [
    {
     "name": "stdout",
     "output_type": "stream",
     "text": [
      "15265612\n",
      "max and min of channel 0 are:  4000.0 300.0\n",
      "max and min of channel 1 are:  32479223000.0 -1310510500.0\n",
      "max and min of channel 2 are:  4502356354430.379 -1994580151898.7341\n",
      "max and min of channel 3 are:  4.111294050632911e+19 -3.252435227848101e+19\n",
      "Finished Processing Data\n",
      "shape of microstructure data is:  (1, 243, 243, 2)\n",
      "shape of output data is:  (1, 243, 243, 20, 4)\n",
      "1\n",
      "1\n",
      "1\n",
      "1\n",
      "(1, 243, 243, 2)\n",
      "(1, 243, 243, 20, 4)\n",
      "(0, 243, 243, 2)\n",
      "(0, 243, 243, 20, 4)\n",
      "(0, 243, 243, 2)\n",
      "(0, 243, 243, 20, 4)\n",
      "Epoch 1/2\n",
      "WARNING:tensorflow:Model was constructed with shape (None, None, None, 2) for input KerasTensor(type_spec=TensorSpec(shape=(None, None, None, 2), dtype=tf.float32, name='input_6'), name='input_6', description=\"created by layer 'input_6'\"), but it was called on an input with incompatible shape (1, 243, 243, 1).\n"
     ]
    },
    {
     "ename": "ValueError",
     "evalue": "in user code:\n\n    File \"C:\\Users\\Austin Leonard\\Documents\\Anaconda\\envs\\parc\\lib\\site-packages\\keras\\engine\\training.py\", line 1160, in train_function  *\n        return step_function(self, iterator)\n    File \"C:\\Users\\Austin Leonard\\Documents\\Anaconda\\envs\\parc\\lib\\site-packages\\keras\\engine\\training.py\", line 1146, in step_function  **\n        outputs = model.distribute_strategy.run(run_step, args=(data,))\n    File \"C:\\Users\\Austin Leonard\\Documents\\Anaconda\\envs\\parc\\lib\\site-packages\\keras\\engine\\training.py\", line 1135, in run_step  **\n        outputs = model.train_step(data)\n    File \"C:\\Users\\Austin Leonard\\Documents\\Anaconda\\envs\\parc\\lib\\site-packages\\keras\\engine\\training.py\", line 993, in train_step\n        y_pred = self(x, training=True)\n    File \"C:\\Users\\Austin Leonard\\Documents\\Anaconda\\envs\\parc\\lib\\site-packages\\keras\\utils\\traceback_utils.py\", line 70, in error_handler\n        raise e.with_traceback(filtered_tb) from None\n    File \"C:\\Users\\Austin Leonard\\Documents\\Anaconda\\envs\\parc\\lib\\site-packages\\keras\\backend.py\", line 3572, in concatenate\n        return tf.concat([to_dense(x) for x in tensors], axis)\n\n    ValueError: Exception encountered when calling layer \"concatenate_26\" \"                 f\"(type Concatenate).\n    \n    Dimension 1 in both shapes must be equal, but are 243 and 240. Shapes are [1,243,243] and [1,240,240]. for '{{node model_1/concatenate_26/concat}} = ConcatV2[N=2, T=DT_FLOAT, Tidx=DT_INT32](model_1/conv2d_16/Relu, model_1/up_sampling2d_5/resize/ResizeNearestNeighbor, model_1/concatenate_26/concat/axis)' with input shapes: [1,243,243,64], [1,240,240,128], [] and with computed input tensors: input[2] = <3>.\n    \n    Call arguments received by layer \"concatenate_26\" \"                 f\"(type Concatenate):\n      • inputs=['tf.Tensor(shape=(1, 243, 243, 64), dtype=float32)', 'tf.Tensor(shape=(1, 240, 240, 128), dtype=float32)']\n",
     "output_type": "error",
     "traceback": [
      "\u001b[1;31m---------------------------------------------------------------------------\u001b[0m",
      "\u001b[1;31mValueError\u001b[0m                                Traceback (most recent call last)",
      "Input \u001b[1;32mIn [1]\u001b[0m, in \u001b[0;36m<cell line: 26>\u001b[1;34m()\u001b[0m\n\u001b[0;32m     23\u001b[0m x_val_init \u001b[38;5;241m=\u001b[39m y_val[:,:,:,\u001b[38;5;241m0\u001b[39m,:\u001b[38;5;241m1\u001b[39m]\n\u001b[0;32m     25\u001b[0m \u001b[38;5;66;03m#train the model using training set \u001b[39;00m\n\u001b[1;32m---> 26\u001b[0m history \u001b[38;5;241m=\u001b[39m \u001b[43mparc_model\u001b[49m\u001b[38;5;241;43m.\u001b[39;49m\u001b[43mfit\u001b[49m\u001b[43m(\u001b[49m\n\u001b[0;32m     27\u001b[0m \u001b[43m    \u001b[49m\u001b[43mx\u001b[49m\u001b[38;5;241;43m=\u001b[39;49m\u001b[43m[\u001b[49m\u001b[43mX_train\u001b[49m\u001b[43m[\u001b[49m\u001b[43m:\u001b[49m\u001b[43m,\u001b[49m\u001b[43m:\u001b[49m\u001b[43m,\u001b[49m\u001b[43m:\u001b[49m\u001b[43m,\u001b[49m\u001b[43m:\u001b[49m\u001b[43m]\u001b[49m\u001b[43m,\u001b[49m\u001b[43m \u001b[49m\u001b[43mx_tn_init\u001b[49m\u001b[43m]\u001b[49m\u001b[43m,\u001b[49m\n\u001b[0;32m     28\u001b[0m \u001b[43m    \u001b[49m\u001b[43my\u001b[49m\u001b[38;5;241;43m=\u001b[39;49m\u001b[43m[\u001b[49m\u001b[43my_train\u001b[49m\u001b[43m[\u001b[49m\u001b[43m:\u001b[49m\u001b[43m,\u001b[49m\u001b[43m \u001b[49m\u001b[43m:\u001b[49m\u001b[43m,\u001b[49m\u001b[43m \u001b[49m\u001b[43m:\u001b[49m\u001b[43m,\u001b[49m\u001b[43m \u001b[49m\u001b[43m:\u001b[49m\u001b[43m,\u001b[49m\u001b[43m \u001b[49m\u001b[43m:\u001b[49m\u001b[38;5;241;43m1\u001b[39;49m\u001b[43m]\u001b[49m\u001b[43m,\u001b[49m\u001b[43m \u001b[49m\u001b[43my_train\u001b[49m\u001b[43m[\u001b[49m\u001b[43m:\u001b[49m\u001b[43m,\u001b[49m\u001b[43m \u001b[49m\u001b[43m:\u001b[49m\u001b[43m,\u001b[49m\u001b[43m \u001b[49m\u001b[43m:\u001b[49m\u001b[43m,\u001b[49m\u001b[43m \u001b[49m\u001b[43m:\u001b[49m\u001b[43m,\u001b[49m\u001b[43m \u001b[49m\u001b[38;5;241;43m2\u001b[39;49m\u001b[43m:\u001b[49m\u001b[38;5;241;43m3\u001b[39;49m\u001b[43m]\u001b[49m\u001b[43m]\u001b[49m\u001b[43m,\u001b[49m\n\u001b[0;32m     29\u001b[0m \u001b[43m    \u001b[49m\u001b[43mvalidation_data\u001b[49m\u001b[38;5;241;43m=\u001b[39;49m\u001b[43m(\u001b[49m\u001b[43m[\u001b[49m\u001b[43mX_val\u001b[49m\u001b[43m[\u001b[49m\u001b[43m:\u001b[49m\u001b[43m,\u001b[49m\u001b[43m:\u001b[49m\u001b[43m,\u001b[49m\u001b[43m:\u001b[49m\u001b[43m,\u001b[49m\u001b[38;5;241;43m1\u001b[39;49m\u001b[43m]\u001b[49m\u001b[43m,\u001b[49m\u001b[43m \u001b[49m\u001b[43mx_val_init\u001b[49m\u001b[43m]\u001b[49m\u001b[43m,\u001b[49m\u001b[43m \u001b[49m\u001b[43m[\u001b[49m\u001b[43my_val\u001b[49m\u001b[43m[\u001b[49m\u001b[43m:\u001b[49m\u001b[43m,\u001b[49m\u001b[43m \u001b[49m\u001b[43m:\u001b[49m\u001b[43m,\u001b[49m\u001b[43m \u001b[49m\u001b[43m:\u001b[49m\u001b[43m,\u001b[49m\u001b[43m \u001b[49m\u001b[43m:\u001b[49m\u001b[43m,\u001b[49m\u001b[43m \u001b[49m\u001b[43m:\u001b[49m\u001b[38;5;241;43m1\u001b[39;49m\u001b[43m]\u001b[49m\u001b[43m,\u001b[49m\u001b[43m \u001b[49m\u001b[43my_val\u001b[49m\u001b[43m[\u001b[49m\u001b[43m:\u001b[49m\u001b[43m,\u001b[49m\u001b[43m \u001b[49m\u001b[43m:\u001b[49m\u001b[43m,\u001b[49m\u001b[43m \u001b[49m\u001b[43m:\u001b[49m\u001b[43m,\u001b[49m\u001b[43m \u001b[49m\u001b[43m:\u001b[49m\u001b[43m,\u001b[49m\u001b[43m \u001b[49m\u001b[38;5;241;43m2\u001b[39;49m\u001b[43m:\u001b[49m\u001b[38;5;241;43m3\u001b[39;49m\u001b[43m]\u001b[49m\u001b[43m]\u001b[49m\u001b[43m)\u001b[49m\u001b[43m,\u001b[49m\n\u001b[0;32m     30\u001b[0m \u001b[43m    \u001b[49m\u001b[43mbatch_size\u001b[49m\u001b[38;5;241;43m=\u001b[39;49m\u001b[38;5;241;43m1\u001b[39;49m\u001b[43m,\u001b[49m\n\u001b[0;32m     31\u001b[0m \u001b[43m    \u001b[49m\u001b[43mepochs\u001b[49m\u001b[38;5;241;43m=\u001b[39;49m\u001b[38;5;241;43m2\u001b[39;49m\u001b[43m,\u001b[49m\n\u001b[0;32m     32\u001b[0m \u001b[43m)\u001b[49m\n",
      "File \u001b[1;32m~\\Documents\\Anaconda\\envs\\parc\\lib\\site-packages\\keras\\utils\\traceback_utils.py:70\u001b[0m, in \u001b[0;36mfilter_traceback.<locals>.error_handler\u001b[1;34m(*args, **kwargs)\u001b[0m\n\u001b[0;32m     67\u001b[0m     filtered_tb \u001b[38;5;241m=\u001b[39m _process_traceback_frames(e\u001b[38;5;241m.\u001b[39m__traceback__)\n\u001b[0;32m     68\u001b[0m     \u001b[38;5;66;03m# To get the full stack trace, call:\u001b[39;00m\n\u001b[0;32m     69\u001b[0m     \u001b[38;5;66;03m# `tf.debugging.disable_traceback_filtering()`\u001b[39;00m\n\u001b[1;32m---> 70\u001b[0m     \u001b[38;5;28;01mraise\u001b[39;00m e\u001b[38;5;241m.\u001b[39mwith_traceback(filtered_tb) \u001b[38;5;28;01mfrom\u001b[39;00m \u001b[38;5;28mNone\u001b[39m\n\u001b[0;32m     71\u001b[0m \u001b[38;5;28;01mfinally\u001b[39;00m:\n\u001b[0;32m     72\u001b[0m     \u001b[38;5;28;01mdel\u001b[39;00m filtered_tb\n",
      "File \u001b[1;32mC:\\Users\\AUSTIN~1\\AppData\\Local\\Temp\\__autograph_generated_file4eadw06v.py:15\u001b[0m, in \u001b[0;36mouter_factory.<locals>.inner_factory.<locals>.tf__train_function\u001b[1;34m(iterator)\u001b[0m\n\u001b[0;32m     13\u001b[0m \u001b[38;5;28;01mtry\u001b[39;00m:\n\u001b[0;32m     14\u001b[0m     do_return \u001b[38;5;241m=\u001b[39m \u001b[38;5;28;01mTrue\u001b[39;00m\n\u001b[1;32m---> 15\u001b[0m     retval_ \u001b[38;5;241m=\u001b[39m ag__\u001b[38;5;241m.\u001b[39mconverted_call(ag__\u001b[38;5;241m.\u001b[39mld(step_function), (ag__\u001b[38;5;241m.\u001b[39mld(\u001b[38;5;28mself\u001b[39m), ag__\u001b[38;5;241m.\u001b[39mld(iterator)), \u001b[38;5;28;01mNone\u001b[39;00m, fscope)\n\u001b[0;32m     16\u001b[0m \u001b[38;5;28;01mexcept\u001b[39;00m:\n\u001b[0;32m     17\u001b[0m     do_return \u001b[38;5;241m=\u001b[39m \u001b[38;5;28;01mFalse\u001b[39;00m\n",
      "\u001b[1;31mValueError\u001b[0m: in user code:\n\n    File \"C:\\Users\\Austin Leonard\\Documents\\Anaconda\\envs\\parc\\lib\\site-packages\\keras\\engine\\training.py\", line 1160, in train_function  *\n        return step_function(self, iterator)\n    File \"C:\\Users\\Austin Leonard\\Documents\\Anaconda\\envs\\parc\\lib\\site-packages\\keras\\engine\\training.py\", line 1146, in step_function  **\n        outputs = model.distribute_strategy.run(run_step, args=(data,))\n    File \"C:\\Users\\Austin Leonard\\Documents\\Anaconda\\envs\\parc\\lib\\site-packages\\keras\\engine\\training.py\", line 1135, in run_step  **\n        outputs = model.train_step(data)\n    File \"C:\\Users\\Austin Leonard\\Documents\\Anaconda\\envs\\parc\\lib\\site-packages\\keras\\engine\\training.py\", line 993, in train_step\n        y_pred = self(x, training=True)\n    File \"C:\\Users\\Austin Leonard\\Documents\\Anaconda\\envs\\parc\\lib\\site-packages\\keras\\utils\\traceback_utils.py\", line 70, in error_handler\n        raise e.with_traceback(filtered_tb) from None\n    File \"C:\\Users\\Austin Leonard\\Documents\\Anaconda\\envs\\parc\\lib\\site-packages\\keras\\backend.py\", line 3572, in concatenate\n        return tf.concat([to_dense(x) for x in tensors], axis)\n\n    ValueError: Exception encountered when calling layer \"concatenate_26\" \"                 f\"(type Concatenate).\n    \n    Dimension 1 in both shapes must be equal, but are 243 and 240. Shapes are [1,243,243] and [1,240,240]. for '{{node model_1/concatenate_26/concat}} = ConcatV2[N=2, T=DT_FLOAT, Tidx=DT_INT32](model_1/conv2d_16/Relu, model_1/up_sampling2d_5/resize/ResizeNearestNeighbor, model_1/concatenate_26/concat/axis)' with input shapes: [1,243,243,64], [1,240,240,128], [] and with computed input tensors: input[2] = <3>.\n    \n    Call arguments received by layer \"concatenate_26\" \"                 f\"(type Concatenate):\n      • inputs=['tf.Tensor(shape=(1, 243, 243, 64), dtype=float32)', 'tf.Tensor(shape=(1, 240, 240, 128), dtype=float32)']\n"
     ]
    }
   ],
   "source": [
    "import os\n",
    "os.chdir(\"..\")\n",
    "from parc import model\n",
    "from parc import IO\n",
    "from parc import losses\n",
    "import keras\n",
    "\n",
    "#Parse the raw data and return microstructure data and temperature/pressure outputs\n",
    "data_in, total_output = IO.parseData(\"data/raw\")\n",
    "\n",
    "#Split data into training, validation, and testing sets\n",
    "X_train, y_train, X_val, y_val, test_X, test_Y = IO.splitData(data_in,total_output,splits=[0.8, 0.1, 0.1])\n",
    "\n",
    "#initilize model and model parameters\n",
    "parc_model = model.parc()\n",
    "loss = [\"mse\", \"mse\"]\n",
    "loss_weights = [1, 1]\n",
    "optimizer = keras.optimizers.Adam(learning_rate=0.0001)\n",
    "metrics = [\"mae\"]\n",
    "parc_model.compile(loss = loss,loss_weights = loss_weights,optimizer = optimizer,metrics = metrics)\n",
    "\n",
    "x_tn_init = y_train[:,:,:,0,:1]\n",
    "x_val_init = y_val[:,:,:,0,:1]\n",
    "\n",
    "#train the model using training set \n",
    "history = parc_model.fit(\n",
    "    x=[X_train[:,:,:,:], x_tn_init],\n",
    "    y=[y_train[:, :, :, :, :1], y_train[:, :, :, :, 2:3]],\n",
    "    validation_data=([X_val[:,:,:,:], x_val_init], [y_val[:, :, :, :, :1], y_val[:, :, :, :, 2:3]]),\n",
    "    batch_size=1,\n",
    "    epochs=2,\n",
    ")\n"
   ]
  },
  {
   "cell_type": "code",
   "execution_count": null,
   "id": "b772a9c9",
   "metadata": {},
   "outputs": [],
   "source": []
  }
 ],
 "metadata": {
  "kernelspec": {
   "display_name": "Python 3 (ipykernel)",
   "language": "python",
   "name": "python3"
  },
  "language_info": {
   "codemirror_mode": {
    "name": "ipython",
    "version": 3
   },
   "file_extension": ".py",
   "mimetype": "text/x-python",
   "name": "python",
   "nbconvert_exporter": "python",
   "pygments_lexer": "ipython3",
   "version": "3.8.13"
  }
 },
 "nbformat": 4,
 "nbformat_minor": 5
}
