{
 "cells": [
  {
   "cell_type": "markdown",
   "id": "d7b36871",
   "metadata": {},
   "source": [
    "# Load Libraries"
   ]
  },
  {
   "cell_type": "code",
   "execution_count": 1,
   "id": "140d13eb",
   "metadata": {},
   "outputs": [],
   "source": [
    "import os\n",
    "os.chdir(\"..\")\n",
    "from parc import model\n",
    "from parc import IO\n",
    "from parc import losses\n",
    "from parc import graphs\n",
    "import keras\n",
    "import numpy as np"
   ]
  },
  {
   "cell_type": "markdown",
   "id": "9ca04536",
   "metadata": {},
   "source": [
    "# Initialize Parameters"
   ]
  },
  {
   "cell_type": "markdown",
   "id": "258fb14b",
   "metadata": {},
   "source": [
    "### Adaptable Input Data "
   ]
  },
  {
   "cell_type": "code",
   "execution_count": 2,
   "id": "c7482ba6",
   "metadata": {},
   "outputs": [],
   "source": [
    "#initialize input data characteristics\n",
    "input_img_size = 485  #image size\n",
    "case_numbers = 2      #number of cases\n",
    "total_time_steps = 20       #number of time steps\n",
    "del_t = 0.79*(10**-9) #time step size"
   ]
  },
  {
   "cell_type": "markdown",
   "id": "628d290f",
   "metadata": {},
   "source": [
    "### Adaptable Model Parameters "
   ]
  },
  {
   "cell_type": "code",
   "execution_count": 3,
   "id": "8ea9d1fa",
   "metadata": {},
   "outputs": [],
   "source": [
    "#initialize adaptable model parameters\n",
    "input_size = (None,None,2)\n",
    "depth = 3\n",
    "kernel_size = 5\n",
    "numFeatureMaps = 128\n",
    "\n",
    "#initialize loss parameters\n",
    "weight_loss = [4,1,1] #initial timestep weights, middle weights, late weights"
   ]
  },
  {
   "cell_type": "markdown",
   "id": "de30c3f2",
   "metadata": {},
   "source": [
    "### Adaptable Post-Processing "
   ]
  },
  {
   "cell_type": "code",
   "execution_count": 5,
   "id": "e3525f43",
   "metadata": {},
   "outputs": [],
   "source": [
    "time_steps = 20   #desired time steps for graphs/losses\n",
    "t_idx = del_t * np.arange(1,time_steps)"
   ]
  },
  {
   "cell_type": "markdown",
   "id": "07186102",
   "metadata": {},
   "source": [
    "# Initialization"
   ]
  },
  {
   "cell_type": "markdown",
   "id": "35721f65",
   "metadata": {},
   "source": [
    "### Parse and Split Data "
   ]
  },
  {
   "cell_type": "code",
   "execution_count": 6,
   "id": "f4ff764f",
   "metadata": {},
   "outputs": [
    {
     "name": "stdout",
     "output_type": "stream",
     "text": [
      "max and min of channel 0 are:  4000.0 300.0\n",
      "max and min of channel 1 are:  33671716000.0 -1553485500.0\n",
      "max and min of channel 2 are:  4683544303797.468 -4242651063291.1387\n",
      "max and min of channel 3 are:  4.262242531645571e+19 -3.252435227848101e+19\n",
      "Finished Processing Data\n",
      "shape of microstructure data is:  (2, 240, 240, 2)\n",
      "shape of output data is:  (2, 240, 240, 20, 4)\n",
      "2\n",
      "1\n",
      "1\n",
      "2\n",
      "(1, 240, 240, 2)\n",
      "(1, 240, 240, 20, 4)\n",
      "(0, 240, 240, 2)\n",
      "(0, 240, 240, 20, 4)\n",
      "(1, 240, 240, 2)\n",
      "(1, 240, 240, 20, 4)\n"
     ]
    }
   ],
   "source": [
    "#Parse the raw data and return microstructure data and temperature/pressure outputs\n",
    "data_in, total_output = IO.parse_data(\"data/raw\",input_img_size,case_numbers,time_steps,del_t)\n",
    "\n",
    "#Split data into training, validation, and testing sets\n",
    "X_train, y_train, X_val, y_val, test_X, test_Y = IO.split_data(data_in,total_output,splits=[0.5, 0, 0.5])"
   ]
  },
  {
   "cell_type": "markdown",
   "id": "4136f958",
   "metadata": {},
   "source": [
    "### Create Training Model"
   ]
  },
  {
   "cell_type": "code",
   "execution_count": 7,
   "id": "49472b78",
   "metadata": {},
   "outputs": [],
   "source": [
    "#initilize model and model parameters\n",
    "parc_model = model.parc(input_size,time_steps,depth,kernel_size,numFeatureMaps)\n",
    "loss = [\"mse\", \"mse\"]\n",
    "loss_weights = [1, 1]\n",
    "optimizer = keras.optimizers.Adam(learning_rate=0.0001)\n",
    "metrics = [\"mae\"]\n",
    "parc_model.compile(loss = loss,loss_weights = loss_weights,optimizer = optimizer,metrics = metrics)"
   ]
  },
  {
   "cell_type": "markdown",
   "id": "cf420081",
   "metadata": {},
   "source": [
    "# Training"
   ]
  },
  {
   "cell_type": "markdown",
   "id": "39991e9c",
   "metadata": {},
   "source": [
    "### 5-Dimensional Format Training "
   ]
  },
  {
   "cell_type": "code",
   "execution_count": 8,
   "id": "a3ec5b59",
   "metadata": {},
   "outputs": [],
   "source": [
    "########for 5 dimensional data format############\n",
    "#x_tn_init = y_train[:,:,:,0,:1]\n",
    "#x_val_init = y_val[:,:,:,0,:1]\n",
    "\n",
    "#train the model using training set \n",
    "#history = parc_model.fit(\n",
    "#    x=[X_train, x_tn_init],\n",
    "#    y=[y_train[:, :, :, 1:, :1], y_train[:, :, :, 1:, 2:3]],\n",
    "#    validation_data=([X_val, x_val_init], [y_val[:, :, :, :, :1], y_val[:, :, :, :, 2:3]]),\n",
    "#    batch_size=1,\n",
    "#    epochs=2,\n",
    "#)\n",
    "################################################"
   ]
  },
  {
   "cell_type": "markdown",
   "id": "2573253d",
   "metadata": {},
   "source": [
    "### 4-Dimensional Format Training "
   ]
  },
  {
   "cell_type": "code",
   "execution_count": 9,
   "id": "9ec5a8e5",
   "metadata": {},
   "outputs": [
    {
     "name": "stdout",
     "output_type": "stream",
     "text": [
      "Starting shape of data:  (1, 240, 240, 20, 4)\n",
      "Reformatted data shape:  (1, 240, 240, 78)\n",
      "Starting shape of data:  (0, 240, 240, 20, 4)\n",
      "Reformatted data shape:  (0, 240, 240, 78)\n",
      "Starting shape of data:  (1, 240, 240, 20, 4)\n",
      "Reformatted data shape:  (1, 240, 240, 78)\n",
      "Epoch 1/2\n",
      "1/1 [==============================] - 313s 313s/step - loss: 18.0343 - concatenate_22_loss: 17.1501 - concatenate_23_loss: 0.8843 - concatenate_22_mae: 3.2863 - concatenate_23_mae: 0.9084\n",
      "Epoch 2/2\n",
      "1/1 [==============================] - 274s 274s/step - loss: 19.7343 - concatenate_22_loss: 18.7506 - concatenate_23_loss: 0.9837 - concatenate_22_mae: 3.3874 - concatenate_23_mae: 0.9788\n"
     ]
    }
   ],
   "source": [
    "#####for 4 dimensional data format#######\n",
    "#reshape to match old data format\n",
    "y_train = IO.reshape_old(y_train)\n",
    "y_val = IO.reshape_old(y_val)\n",
    "test_Y = IO.reshape_old(test_Y)\n",
    "\n",
    "x_tn_init = y_train[:,:,:,0:2]\n",
    "x_val_init = y_val[:,:,:,0:2]\n",
    "x_test_init = test_Y[:,:,:,0:2]\n",
    "\n",
    "#train the model using training set, skip this part if already trained\n",
    "history = parc_model.fit(\n",
    "    x=[X_train, x_tn_init],\n",
    "    y=[y_train[:, :, :, 2:40], y_train[:, :, :, 40:]],\n",
    "    validation_data=([X_val, x_val_init], [y_val[:, :, :, 2:40], y_val[:, :, :, 40:]]),\n",
    "    batch_size=1,\n",
    "    epochs=2,\n",
    ")"
   ]
  },
  {
   "cell_type": "code",
   "execution_count": 10,
   "id": "c9ee59be",
   "metadata": {},
   "outputs": [],
   "source": [
    "#save trained model weights\n",
    "parc_model.save_weights(\"PARC_trained_data.h5\")\n",
    "\n",
    "#load trained model weights\n",
    "parc_model.load_weights(\"PARC_trained_data.h5\")"
   ]
  },
  {
   "cell_type": "markdown",
   "id": "6f97d48a",
   "metadata": {},
   "source": [
    "# Prediction"
   ]
  },
  {
   "cell_type": "code",
   "execution_count": 11,
   "id": "e23a206f",
   "metadata": {},
   "outputs": [
    {
     "name": "stdout",
     "output_type": "stream",
     "text": [
      "1/1 [==============================] - 43s 43s/step\n"
     ]
    }
   ],
   "source": [
    "#prediction using trained model parameters\n",
    "pred = parc_model.predict([test_X,x_test_init])\n",
    "\n",
    "#definition of temperature prediction and ground truth with rescaling\n",
    "Temp_pred = pred[0][:,:,:,0::2]\n",
    "Temp_pred = Temp_pred[:,:,:,:19]\n",
    "Temp_pred = (Temp_pred+1.0)/2.0\n",
    "Temp_gt = test_Y[:,:,:,0::2]\n",
    "Temp_gt = Temp_gt[:,:,:,:19]\n",
    "Temp_gt = (Temp_gt+1.0)/2.0\n",
    "\n",
    "#definition of pressure prediction and ground truth with rescaling\n",
    "Pres_pred = pred[0][:,:,:,1::2]\n",
    "Pres_pred = Pres_pred[:,:,:,:19]\n",
    "Pres_pred = (Pres_pred+1.0)/2.0\n",
    "Pres_gt = test_Y[:,:,:,1::2]\n",
    "Pres_gt = Pres_gt[:,:,:,:19]\n",
    "Pres_gt = (Pres_gt+1.0)/2.0"
   ]
  },
  {
   "cell_type": "markdown",
   "id": "a192f41f",
   "metadata": {},
   "source": [
    "# Losses"
   ]
  },
  {
   "cell_type": "code",
   "execution_count": 13,
   "id": "fcfb3d56",
   "metadata": {},
   "outputs": [
    {
     "name": "stdout",
     "output_type": "stream",
     "text": [
      "temp loss:  tf.Tensor(\n",
      "[[[1.4019467  1.99955724 1.27909057 ... 1.34282118 1.0760631  0.8845938 ]\n",
      "  [0.80846052 0.71898278 0.61915403 ... 0.40392655 0.3397122  0.14510916]\n",
      "  [1.0931516  1.51951395 1.40473142 ... 0.85607238 0.62949536 0.3247403 ]\n",
      "  ...\n",
      "  [1.73910455 2.22010193 0.962893   ... 1.65469225 1.8495554  0.59293383]\n",
      "  [2.78255666 2.02377059 1.04912802 ... 0.35733892 0.18767424 0.15461463]\n",
      "  [1.29587567 0.90808451 1.17886892 ... 1.46166553 0.69269369 0.18620004]]], shape=(1, 240, 240), dtype=float64)\n",
      "pressure loss:  tf.Tensor(\n",
      "[[[16.66939167 20.67906372 12.35884354 ... 11.44820021 11.06995655\n",
      "    9.58242312]\n",
      "  [ 9.38816053  8.24340169  5.6695756  ...  3.34174916  2.83215391\n",
      "    1.41818412]\n",
      "  [10.76306062 16.07773555 12.83718308 ...  7.36438608  5.95043883\n",
      "    2.32219343]\n",
      "  ...\n",
      "  [19.32518043 25.1932482  11.30947776 ... 16.12320887 19.89582289\n",
      "    5.02302854]\n",
      "  [30.41183832 23.62867396 12.85111006 ...  2.93389058  2.13723104\n",
      "    0.84720163]\n",
      "  [15.76770417 11.20017622 13.83723129 ... 15.39255184  7.5107441\n",
      "    0.86475456]]], shape=(1, 240, 240), dtype=float64)\n"
     ]
    }
   ],
   "source": [
    "#calculate root mean squared, r2 score, and losses\n",
    "pred_cases = pred[0].shape[0]\n",
    "rmse = losses.rmse(Temp_gt,Temp_pred,pred_cases,time_steps)\n",
    "r2 = losses.r2(Temp_gt,Temp_pred,pred_cases,time_steps)\n",
    "loss_cv = losses.step_weighted_loss(Temp_gt,Temp_pred, weight_loss)\n",
    "#step_loss = losses.step_weighted_physical_loss(Temp_gt,Temp_pred,loss_cv)\n",
    "state_loss = losses.state_weighted_loss(Temp_gt,Temp_pred)"
   ]
  },
  {
   "cell_type": "markdown",
   "id": "0bef68db",
   "metadata": {},
   "source": [
    "# Graphs"
   ]
  },
  {
   "cell_type": "code",
   "execution_count": 17,
   "id": "44174276",
   "metadata": {},
   "outputs": [
    {
     "name": "stdout",
     "output_type": "stream",
     "text": [
      "Starting shape of data:  (1, 240, 240, 20, 4)\n"
     ]
    },
    {
     "ename": "ValueError",
     "evalue": "could not broadcast input array from shape (240,240,4) into shape (240,240)",
     "output_type": "error",
     "traceback": [
      "\u001b[1;31m---------------------------------------------------------------------------\u001b[0m",
      "\u001b[1;31mValueError\u001b[0m                                Traceback (most recent call last)",
      "Input \u001b[1;32mIn [17]\u001b[0m, in \u001b[0;36m<cell line: 2>\u001b[1;34m()\u001b[0m\n\u001b[0;32m      1\u001b[0m \u001b[38;5;66;03m#reshape to match new data format\u001b[39;00m\n\u001b[1;32m----> 2\u001b[0m test_Y \u001b[38;5;241m=\u001b[39m \u001b[43mIO\u001b[49m\u001b[38;5;241;43m.\u001b[39;49m\u001b[43mreshape_new\u001b[49m\u001b[43m(\u001b[49m\u001b[43mtest_Y\u001b[49m\u001b[43m)\u001b[49m\n\u001b[0;32m      3\u001b[0m pred[\u001b[38;5;241m0\u001b[39m] \u001b[38;5;241m=\u001b[39m IO\u001b[38;5;241m.\u001b[39mreshape_new(pred[\u001b[38;5;241m0\u001b[39m],\u001b[38;5;241m2\u001b[39m)\n\u001b[0;32m      4\u001b[0m pred[\u001b[38;5;241m0\u001b[39m][:,:,:,\u001b[38;5;241m0\u001b[39m,\u001b[38;5;241m0\u001b[39m] \u001b[38;5;241m=\u001b[39m test_Y[:,:,:,\u001b[38;5;241m0\u001b[39m,\u001b[38;5;241m0\u001b[39m]\n",
      "File \u001b[1;32m~\\parc\\parc\\IO.py:237\u001b[0m, in \u001b[0;36mreshape_new\u001b[1;34m(old_data, channels)\u001b[0m\n\u001b[0;32m    235\u001b[0m \u001b[38;5;28;01mif\u001b[39;00m channels \u001b[38;5;241m==\u001b[39m \u001b[38;5;241m4\u001b[39m:\n\u001b[0;32m    236\u001b[0m     \u001b[38;5;28;01mfor\u001b[39;00m time_idx \u001b[38;5;129;01min\u001b[39;00m \u001b[38;5;28mrange\u001b[39m(time_steps):\n\u001b[1;32m--> 237\u001b[0m         new_data[case_idx,:,:,time_idx,\u001b[38;5;241m0\u001b[39m] \u001b[38;5;241m=\u001b[39m old_data[case_idx,:,:,(\u001b[38;5;241m2\u001b[39m\u001b[38;5;241m*\u001b[39mtime_idx)]\n\u001b[0;32m    238\u001b[0m         new_data[case_idx,:,:,time_idx,\u001b[38;5;241m1\u001b[39m] \u001b[38;5;241m=\u001b[39m old_data[case_idx,:,:,(\u001b[38;5;241m2\u001b[39m\u001b[38;5;241m*\u001b[39mtime_idx)\u001b[38;5;241m+\u001b[39m\u001b[38;5;241m1\u001b[39m]\n\u001b[0;32m    239\u001b[0m     \u001b[38;5;28;01mfor\u001b[39;00m time_idx \u001b[38;5;129;01min\u001b[39;00m \u001b[38;5;28mrange\u001b[39m(time_steps\u001b[38;5;241m-\u001b[39m\u001b[38;5;241m1\u001b[39m):\n",
      "\u001b[1;31mValueError\u001b[0m: could not broadcast input array from shape (240,240,4) into shape (240,240)"
     ]
    }
   ],
   "source": [
    "#reshape to match new data format\n",
    "test_Y = IO.reshape_new(test_Y)\n",
    "pred[0] = IO.reshape_new(pred[0],2)\n",
    "pred[0][:,:,:,0,0] = test_Y[:,:,:,0,0]\n",
    "pred[0][:,:,:,0,1] = test_Y[:,:,:,0,1]"
   ]
  },
  {
   "cell_type": "code",
   "execution_count": 20,
   "id": "fe00585a",
   "metadata": {},
   "outputs": [
    {
     "name": "stderr",
     "output_type": "stream",
     "text": [
      "No artists with labels found to put in legend.  Note that artists whose label start with an underscore are ignored when legend() is called with no argument.\n"
     ]
    },
    {
     "data": {
      "image/png": "[encoded data removed]",
      "text/plain": [
       "<Figure size 1700x400 with 1 Axes>"
      ]
     },
     "metadata": {},
     "output_type": "display_data"
    },
    {
     "name": "stderr",
     "output_type": "stream",
     "text": [
      "No artists with labels found to put in legend.  Note that artists whose label start with an underscore are ignored when legend() is called with no argument.\n"
     ]
    },
    {
     "data": {
      "image/png": "[encoded data removed]",
      "text/plain": [
       "<Figure size 1700x400 with 1 Axes>"
      ]
     },
     "metadata": {},
     "output_type": "display_data"
    },
    {
     "ename": "NameError",
     "evalue": "name 'Calculate_avg_sensitivity' is not defined",
     "output_type": "error",
     "traceback": [
      "\u001b[1;31m---------------------------------------------------------------------------\u001b[0m",
      "\u001b[1;31mNameError\u001b[0m                                 Traceback (most recent call last)",
      "Input \u001b[1;32mIn [20]\u001b[0m, in \u001b[0;36m<cell line: 4>\u001b[1;34m()\u001b[0m\n\u001b[0;32m      2\u001b[0m graphs\u001b[38;5;241m.\u001b[39mplot_rmse(rmse,t_idx)\n\u001b[0;32m      3\u001b[0m graphs\u001b[38;5;241m.\u001b[39mplot_r2(r2,t_idx)\n\u001b[1;32m----> 4\u001b[0m \u001b[43mgraphs\u001b[49m\u001b[38;5;241;43m.\u001b[39;49m\u001b[43mplot_sensitivity_area\u001b[49m\u001b[43m(\u001b[49m\u001b[43mTemp_gt\u001b[49m\u001b[43m,\u001b[49m\u001b[43mTemp_pred\u001b[49m\u001b[43m,\u001b[49m\u001b[43mt_idx\u001b[49m\u001b[43m)\u001b[49m\n\u001b[0;32m      5\u001b[0m graphs\u001b[38;5;241m.\u001b[39mplot_sensitivity_temperature(Temp_gt,Temp_pred,t_idx)\n\u001b[0;32m      6\u001b[0m graphs\u001b[38;5;241m.\u001b[39mplot_saliency(Temp_pred)\n",
      "File \u001b[1;32m~\\parc\\parc\\graphs.py:97\u001b[0m, in \u001b[0;36mplot_sensitivity_area\u001b[1;34m(y_true, y_pred, t_idx)\u001b[0m\n\u001b[0;32m     83\u001b[0m \u001b[38;5;28;01mdef\u001b[39;00m \u001b[38;5;21mplot_sensitivity_area\u001b[39m(y_true, y_pred, t_idx):\n\u001b[0;32m     84\u001b[0m     \u001b[38;5;124;03m\"\"\"plot of the average hotspot area rate of change used to show predicted growth\u001b[39;00m\n\u001b[0;32m     85\u001b[0m \u001b[38;5;124;03m    Args:\u001b[39;00m\n\u001b[0;32m     86\u001b[0m \u001b[38;5;124;03m        y_true (np.ndarray): true values for temp/press found in input dataset\u001b[39;00m\n\u001b[0;32m     87\u001b[0m \u001b[38;5;124;03m        y_pred (np.ndarray): model predicted values for temp/press\u001b[39;00m\n\u001b[0;32m     88\u001b[0m \u001b[38;5;124;03m        t_idx (list[int]): list of the time index to plot\u001b[39;00m\n\u001b[0;32m     89\u001b[0m \u001b[38;5;124;03m    \"\"\"\u001b[39;00m\n\u001b[0;32m     90\u001b[0m     (\n\u001b[0;32m     91\u001b[0m         area_mean,\n\u001b[0;32m     92\u001b[0m         area_error1,\n\u001b[0;32m     93\u001b[0m         area_error2,\n\u001b[0;32m     94\u001b[0m         gt_area_mean,\n\u001b[0;32m     95\u001b[0m         gt_area_error1,\n\u001b[0;32m     96\u001b[0m         gt_area_error2,\n\u001b[1;32m---> 97\u001b[0m     ) \u001b[38;5;241m=\u001b[39m \u001b[43mCalculate_avg_sensitivity\u001b[49m(y_pred[:, :, :, \u001b[38;5;241m1\u001b[39m:], y_true[:, :, :, \u001b[38;5;241m1\u001b[39m:])\n\u001b[0;32m     99\u001b[0m     plt\u001b[38;5;241m.\u001b[39mfigure(figsize\u001b[38;5;241m=\u001b[39m(\u001b[38;5;241m6\u001b[39m, \u001b[38;5;241m4\u001b[39m))\n\u001b[0;32m    101\u001b[0m     plt\u001b[38;5;241m.\u001b[39mplot(t_idx, gt_area_mean, \u001b[38;5;124m\"\u001b[39m\u001b[38;5;124mb-\u001b[39m\u001b[38;5;124m\"\u001b[39m, label\u001b[38;5;241m=\u001b[39m\u001b[38;5;124m\"\u001b[39m\u001b[38;5;124mGround truth\u001b[39m\u001b[38;5;124m\"\u001b[39m)\n",
      "\u001b[1;31mNameError\u001b[0m: name 'Calculate_avg_sensitivity' is not defined"
     ]
    }
   ],
   "source": [
    "#create plots for data\n",
    "graphs.plot_rmse(rmse,t_idx)\n",
    "graphs.plot_r2(r2,t_idx)\n",
    "graphs.plot_sensitivity_area(Temp_gt,Temp_pred,t_idx)\n",
    "graphs.plot_sensitivity_temperature(Temp_gt,Temp_pred,t_idx)\n",
    "graphs.plot_saliency(Temp_pred)"
   ]
  },
  {
   "cell_type": "code",
   "execution_count": null,
   "id": "f5ea4c70",
   "metadata": {},
   "outputs": [],
   "source": []
  }
 ],
 "metadata": {
  "kernelspec": {
   "display_name": "Python 3 (ipykernel)",
   "language": "python",
   "name": "python3"
  },
  "language_info": {
   "codemirror_mode": {
    "name": "ipython",
    "version": 3
   },
   "file_extension": ".py",
   "mimetype": "text/x-python",
   "name": "python",
   "nbconvert_exporter": "python",
   "pygments_lexer": "ipython3",
   "version": "3.8.13"
  }
 },
 "nbformat": 4,
 "nbformat_minor": 5
}
