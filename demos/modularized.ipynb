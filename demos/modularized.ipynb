{
 "cells": [
  {
   "cell_type": "code",
   "execution_count": 1,
   "id": "140d13eb",
   "metadata": {},
   "outputs": [
    {
     "name": "stdout",
     "output_type": "stream",
     "text": [
      "max and min of channel 0 are:  4000.0 300.0\n",
      "max and min of channel 1 are:  32479223000.0 -1310510500.0\n",
      "max and min of channel 2 are:  4502356354430.379 -1994580151898.7341\n",
      "max and min of channel 3 are:  4.111294050632911e+19 -3.252435227848101e+19\n",
      "Finished Processing Data\n",
      "shape of microstructure data is:  (1, 240, 240, 2)\n",
      "shape of output data is:  (1, 240, 240, 20, 4)\n",
      "1\n",
      "1\n",
      "1\n",
      "1\n",
      "(1, 240, 240, 2)\n",
      "(1, 240, 240, 20, 4)\n",
      "(0, 240, 240, 2)\n",
      "(0, 240, 240, 20, 4)\n",
      "(0, 240, 240, 2)\n",
      "(0, 240, 240, 20, 4)\n",
      "Old shape of data:  (1, 240, 240, 20, 4)\n",
      "New shape of data:  (1, 240, 240, 78)\n",
      "Old shape of data:  (0, 240, 240, 20, 4)\n",
      "New shape of data:  (0, 240, 240, 78)\n",
      "Old shape of data:  (0, 240, 240, 20, 4)\n",
      "New shape of data:  (0, 240, 240, 78)\n"
     ]
    },
    {
     "ename": "IndexError",
     "evalue": "too many indices for array: array is 4-dimensional, but 5 were indexed",
     "output_type": "error",
     "traceback": [
      "\u001b[1;31m---------------------------------------------------------------------------\u001b[0m",
      "\u001b[1;31mIndexError\u001b[0m                                Traceback (most recent call last)",
      "Input \u001b[1;32mIn [1]\u001b[0m, in \u001b[0;36m<cell line: 39>\u001b[1;34m()\u001b[0m\n\u001b[0;32m     36\u001b[0m metrics \u001b[38;5;241m=\u001b[39m [\u001b[38;5;124m\"\u001b[39m\u001b[38;5;124mmae\u001b[39m\u001b[38;5;124m\"\u001b[39m]\n\u001b[0;32m     37\u001b[0m parc_model\u001b[38;5;241m.\u001b[39mcompile(loss \u001b[38;5;241m=\u001b[39m loss,loss_weights \u001b[38;5;241m=\u001b[39m loss_weights,optimizer \u001b[38;5;241m=\u001b[39m optimizer,metrics \u001b[38;5;241m=\u001b[39m metrics)\n\u001b[1;32m---> 39\u001b[0m x_tn_init \u001b[38;5;241m=\u001b[39m \u001b[43my_train\u001b[49m\u001b[43m[\u001b[49m\u001b[43m:\u001b[49m\u001b[43m,\u001b[49m\u001b[43m:\u001b[49m\u001b[43m,\u001b[49m\u001b[43m:\u001b[49m\u001b[43m,\u001b[49m\u001b[38;5;241;43m0\u001b[39;49m\u001b[43m,\u001b[49m\u001b[43m:\u001b[49m\u001b[38;5;241;43m1\u001b[39;49m\u001b[43m]\u001b[49m\n\u001b[0;32m     40\u001b[0m x_val_init \u001b[38;5;241m=\u001b[39m y_val[:,:,:,\u001b[38;5;241m0\u001b[39m,:\u001b[38;5;241m1\u001b[39m]\n\u001b[0;32m     42\u001b[0m \u001b[38;5;66;03m#train the model using training set \u001b[39;00m\n",
      "\u001b[1;31mIndexError\u001b[0m: too many indices for array: array is 4-dimensional, but 5 were indexed"
     ]
    }
   ],
   "source": [
    "import os\n",
    "os.chdir(\"..\")\n",
    "from parc import model\n",
    "from parc import IO\n",
    "from parc import losses\n",
    "import keras\n",
    "\n",
    "#initialize input data characteristics\n",
    "input_img_size = 485  #image size\n",
    "case_numbers = 1     #number of cases\n",
    "time_steps = 20       #number of time steps\n",
    "del_t = 0.79*(10**-9) #time step size\n",
    "\n",
    "#initialize adaptable model parameters\n",
    "input_size = (None,None,2)\n",
    "depth = 3\n",
    "kernel_size = 5\n",
    "numFeatureMaps = 128\n",
    "\n",
    "#Parse the raw data and return microstructure data and temperature/pressure outputs\n",
    "data_in, total_output = IO.parseData(\"data/raw\",input_img_size,case_numbers,time_steps,del_t)\n",
    "\n",
    "#Split data into training, validation, and testing sets\n",
    "X_train, y_train, X_val, y_val, test_X, test_Y = IO.splitData(data_in,total_output,splits=[1, 0, 0])\n",
    "\n",
    "#reshape to match old data format\n",
    "y_train = IO.reshape(y_train)\n",
    "y_val = IO.reshape(y_val)\n",
    "test_Y = IO.reshape(test_Y)\n",
    "\n",
    "#initilize model and model parameters\n",
    "parc_model = model.parc(input_size,time_steps,depth,kernel_size,numFeatureMaps)\n",
    "loss = [\"mse\", \"mse\"]\n",
    "loss_weights = [1, 1]\n",
    "optimizer = keras.optimizers.Adam(learning_rate=0.0001)\n",
    "metrics = [\"mae\"]\n",
    "parc_model.compile(loss = loss,loss_weights = loss_weights,optimizer = optimizer,metrics = metrics)\n",
    "\n",
    "x_tn_init = y_train[:,:,:,0,:1]\n",
    "x_val_init = y_val[:,:,:,0,:1]\n",
    "\n",
    "#train the model using training set \n",
    "history = parc_model.fit(\n",
    "    x=[X_train[:,:,:,:], x_tn_init],\n",
    "    y=[y_train[:, :, :, :, :1], y_train[:, :, :, :, 2:3]],\n",
    "    validation_data=([X_val[:,:,:,:], x_val_init], [y_val[:, :, :, :, :1], y_val[:, :, :, :, 2:3]]),\n",
    "    batch_size=1,\n",
    "    epochs=2,\n",
    ")\n",
    "\n",
    "#prediction using trained model parameters\n",
    "pred = parc_model.predict([test_X,test_Y[:,:,:,0,:1]])\n",
    "\n",
    "#calculate losses\n",
    "rmse = losses.rmse(test_Y,pred[0][:,:,:,:,:])\n",
    "r2 = losses.r2(test_Y,pred[0][:,:,:,:,:])\n",
    "loss_cv = losses.step_weighted_loss(test_Y,pred[0][:,:,:,:,:])\n",
    "step_loss = losses.step_weighted_physical_loss(test_Y,pred[0][:,:,:,:,:])\n",
    "state_loss = losses.state_weighted_loss(test_Y,pred[0][:,:,:,:,:])\n",
    "\n",
    "#create plots for data\n",
    "graphs.plot_rmse()"
   ]
  },
  {
   "cell_type": "code",
   "execution_count": null,
   "id": "d3b5a556",
   "metadata": {},
   "outputs": [],
   "source": []
  }
 ],
 "metadata": {
  "kernelspec": {
   "display_name": "Python 3 (ipykernel)",
   "language": "python",
   "name": "python3"
  },
  "language_info": {
   "codemirror_mode": {
    "name": "ipython",
    "version": 3
   },
   "file_extension": ".py",
   "mimetype": "text/x-python",
   "name": "python",
   "nbconvert_exporter": "python",
   "pygments_lexer": "ipython3",
   "version": "3.8.13"
  }
 },
 "nbformat": 4,
 "nbformat_minor": 5
}
