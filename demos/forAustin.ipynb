{
 "cells": [
  {
   "cell_type": "code",
   "execution_count": 1,
   "metadata": {},
   "outputs": [
    {
     "ename": "ModuleNotFoundError",
     "evalue": "No module named 'tensorflow'",
     "output_type": "error",
     "traceback": [
      "\u001b[0;31m---------------------------------------------------------------------------\u001b[0m",
      "\u001b[0;31mModuleNotFoundError\u001b[0m                       Traceback (most recent call last)",
      "\u001b[1;32m/Users/josephchoi/dev/parc/demos/forAustin.ipynb Cell 1\u001b[0m in \u001b[0;36m<cell line: 19>\u001b[0;34m()\u001b[0m\n\u001b[1;32m     <a href='vscode-notebook-cell:/Users/josephchoi/dev/parc/demos/forAustin.ipynb#W0sZmlsZQ%3D%3D?line=15'>16</a>\u001b[0m \u001b[39mimport\u001b[39;00m \u001b[39mmatplotlib\u001b[39;00m\u001b[39m.\u001b[39;00m\u001b[39mpatches\u001b[39;00m \u001b[39mas\u001b[39;00m \u001b[39mpatches\u001b[39;00m\n\u001b[1;32m     <a href='vscode-notebook-cell:/Users/josephchoi/dev/parc/demos/forAustin.ipynb#W0sZmlsZQ%3D%3D?line=17'>18</a>\u001b[0m \u001b[39m#for neural network creation and training\u001b[39;00m\n\u001b[0;32m---> <a href='vscode-notebook-cell:/Users/josephchoi/dev/parc/demos/forAustin.ipynb#W0sZmlsZQ%3D%3D?line=18'>19</a>\u001b[0m \u001b[39mimport\u001b[39;00m \u001b[39mtensorflow\u001b[39;00m \u001b[39mas\u001b[39;00m \u001b[39mtf\u001b[39;00m\n\u001b[1;32m     <a href='vscode-notebook-cell:/Users/josephchoi/dev/parc/demos/forAustin.ipynb#W0sZmlsZQ%3D%3D?line=19'>20</a>\u001b[0m \u001b[39mimport\u001b[39;00m \u001b[39mkeras\u001b[39;00m\n\u001b[1;32m     <a href='vscode-notebook-cell:/Users/josephchoi/dev/parc/demos/forAustin.ipynb#W0sZmlsZQ%3D%3D?line=20'>21</a>\u001b[0m \u001b[39mfrom\u001b[39;00m \u001b[39mkeras\u001b[39;00m\u001b[39m.\u001b[39;00m\u001b[39mmodels\u001b[39;00m \u001b[39mimport\u001b[39;00m \u001b[39m*\u001b[39m\n",
      "\u001b[0;31mModuleNotFoundError\u001b[0m: No module named 'tensorflow'"
     ]
    }
   ],
   "source": [
    "#Load Libraries\n",
    "import os, random\n",
    "import numpy as np\n",
    "import pandas as pd\n",
    "from PIL import Image\n",
    "from math import sqrt\n",
    "from sklearn.metrics import mean_squared_error, r2_score\n",
    "from scipy import stats as st\n",
    "import urllib\n",
    "\n",
    "#for image processing\n",
    "import skimage\n",
    "from skimage.measure import block_reduce\n",
    "import matplotlib.pyplot as plt\n",
    "from matplotlib.animation import FuncAnimation\n",
    "import matplotlib.patches as patches\n",
    "\n",
    "#for neural network creation and training\n",
    "import tensorflow as tf\n",
    "import keras\n",
    "from keras.models import *\n",
    "from keras.layers import *\n",
    "from keras import optimizers\n",
    "from keras.callbacks import ModelCheckpoint, LearningRateScheduler\n",
    "import keras.backend as K\n",
    "\n",
    "#used to import network model which will be defined in parc library\n",
    "os.chdir(\"..\")\n",
    "from parc import model"
   ]
  },
  {
   "cell_type": "code",
   "execution_count": 22,
   "metadata": {},
   "outputs": [
    {
     "name": "stdout",
     "output_type": "stream",
     "text": [
      "get pre-trained model:\tcomplete\n"
     ]
    }
   ],
   "source": [
    "# processed data (by Phong)\n",
    "url_input = 'https://virginia.box.com/shared/static/fosmd65cvw5z6vx1a9jfbxv4pgxj8x3b.npy'\n",
    "url_output = 'https://virginia.box.com/shared/static/13d2ga8nfc4bg68lvpfm65rx7atl4mft.npy'\n",
    "url_model = 'https://virginia.box.com/shared/static/7z3e829q7wytipdk2qm9zow41w0myte8.h5'\n",
    "\n",
    "# print( 'get input data:', end='\\t')\n",
    "# response = urllib.request.urlretrieve(url_input, 'data_in.npy')\n",
    "# print( 'complete' )\n",
    "\n",
    "# print( 'get output data:', end='\\t')\n",
    "# response = urllib.request.urlretrieve(url_output, 'data_out.npy')\n",
    "# print( 'complete' )\n",
    "\n",
    "# print( 'get pre-trained model:', end='\\t')\n",
    "# response = urllib.request.urlretrieve(url_model, 'preTrain.h5')\n",
    "# print( 'complete' )\n"
   ]
  },
  {
   "cell_type": "code",
   "execution_count": 17,
   "metadata": {},
   "outputs": [],
   "source": []
  },
  {
   "cell_type": "code",
   "execution_count": null,
   "metadata": {},
   "outputs": [],
   "source": []
  },
  {
   "cell_type": "code",
   "execution_count": 20,
   "metadata": {},
   "outputs": [
    {
     "name": "stdout",
     "output_type": "stream",
     "text": [
      "(42, 485, 485, 2)\n"
     ]
    }
   ],
   "source": []
  }
 ],
 "metadata": {
  "kernelspec": {
   "display_name": "Python 3.9.12 ('mg')",
   "language": "python",
   "name": "python3"
  },
  "language_info": {
   "codemirror_mode": {
    "name": "ipython",
    "version": 3
   },
   "file_extension": ".py",
   "mimetype": "text/x-python",
   "name": "python",
   "nbconvert_exporter": "python",
   "pygments_lexer": "ipython3",
   "version": "3.9.12"
  },
  "orig_nbformat": 4,
  "vscode": {
   "interpreter": {
    "hash": "5b8d0077e7a5bc87afcc0126b95c369b6bce0ab54179eb3c0794bd344f38e221"
   }
  }
 },
 "nbformat": 4,
 "nbformat_minor": 2
}
