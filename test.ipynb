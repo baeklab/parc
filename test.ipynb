{
 "cells": [
  {
   "cell_type": "code",
   "execution_count": 1,
   "id": "140d13eb",
   "metadata": {},
   "outputs": [
    {
     "name": "stdout",
     "output_type": "stream",
     "text": [
      "15265612\n"
     ]
    },
    {
     "ename": "SyntaxError",
     "evalue": "invalid syntax (IO.py, line 43)",
     "output_type": "error",
     "traceback": [
      "Traceback \u001b[1;36m(most recent call last)\u001b[0m:\n",
      "  File \u001b[0;32m~\\Documents\\Anaconda\\envs\\parc\\lib\\site-packages\\IPython\\core\\interactiveshell.py:3398\u001b[0m in \u001b[0;35mrun_code\u001b[0m\n    exec(code_obj, self.user_global_ns, self.user_ns)\n",
      "  Input \u001b[0;32mIn [1]\u001b[0m in \u001b[0;35m<cell line: 1>\u001b[0m\n    from parc import model\n",
      "\u001b[1;36m  File \u001b[1;32m~\\parc\\parc\\__init__.py:2\u001b[1;36m in \u001b[1;35m<module>\u001b[1;36m\u001b[0m\n\u001b[1;33m    from . import IO\u001b[0m\n",
      "\u001b[1;36m  File \u001b[1;32m~\\parc\\parc\\IO.py:43\u001b[1;36m\u001b[0m\n\u001b[1;33m    out_whole = [:,:,:,:]\u001b[0m\n\u001b[1;37m                 ^\u001b[0m\n\u001b[1;31mSyntaxError\u001b[0m\u001b[1;31m:\u001b[0m invalid syntax\n"
     ]
    }
   ],
   "source": [
    "from parc import model\n",
    "from parc import IO\n",
    "from parc import losses\n",
    "import keras\n",
    "\n",
    "IO.parseData(\"data/raw\")"
   ]
  },
  {
   "cell_type": "code",
   "execution_count": null,
   "id": "a2e8bbee",
   "metadata": {},
   "outputs": [],
   "source": []
  }
 ],
 "metadata": {
  "kernelspec": {
   "display_name": "Python 3 (ipykernel)",
   "language": "python",
   "name": "python3"
  },
  "language_info": {
   "codemirror_mode": {
    "name": "ipython",
    "version": 3
   },
   "file_extension": ".py",
   "mimetype": "text/x-python",
   "name": "python",
   "nbconvert_exporter": "python",
   "pygments_lexer": "ipython3",
   "version": "3.8.13"
  }
 },
 "nbformat": 4,
 "nbformat_minor": 5
}
